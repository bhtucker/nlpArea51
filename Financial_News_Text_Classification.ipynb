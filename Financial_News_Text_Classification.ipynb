{
 "cells": [
  {
   "cell_type": "markdown",
   "metadata": {},
   "source": [
    "# Financial Corpus"
   ]
  },
  {
   "cell_type": "markdown",
   "metadata": {},
   "source": [
    "### Download Corpus & Fetch Articles "
   ]
  },
  {
   "cell_type": "markdown",
   "metadata": {},
   "source": [
    "Corpus contains articles across the following categories:\n",
    "\n",
    "* Policy (licenses , regulation, SEC, monetary, fed, monetary,fiscal,imf)\n",
    "\n",
    "* International  Finance( global finance, IMF, ECB, trouble in Greece, RMB devaluation)\n",
    "\n",
    "* Economy (GDP, Jobs, unemployment, housing, economy)\n",
    "\n",
    "* Raising Capital(ipo, equity)\n",
    "\n",
    "* Real Estate\n",
    "\n",
    "* Mergers &  Acquisitions (merger,acquisitions)\n",
    "\n",
    "* Oil(oil,oil prices,natural gas price)\n",
    "\n",
    "* Commodities (commodities,gold ,silver)\n",
    "\n",
    "* Fraud(insider trading, ponzi scheme, finance fraud)\n",
    "\n",
    "* Litigation (company litigation, company settlement,)\n",
    "\n",
    "* Earning Reports"
   ]
  },
  {
   "cell_type": "code",
   "execution_count": 25,
   "metadata": {
    "collapsed": false
   },
   "outputs": [
    {
     "data": {
      "text/plain": [
       "('finance_corpus.db', <httplib.HTTPMessage instance at 0x7fe28b2f27a0>)"
      ]
     },
     "execution_count": 25,
     "metadata": {},
     "output_type": "execute_result"
    }
   ],
   "source": [
    "import requests \n",
    "import sqlite3\n",
    "import pandas as pd\n",
    "import urllib\n",
    "\n",
    "url = \"https://github.com/skillachie/binaryNLP/raw/master/corpora/finance_corpus.db\"\n",
    "urllib.urlretrieve (url, \"finance_corpus.db\")"
   ]
  },
  {
   "cell_type": "code",
   "execution_count": 68,
   "metadata": {
    "collapsed": false
   },
   "outputs": [
    {
     "name": "stdout",
     "output_type": "stream",
     "text": [
      "<bound method DataFrame.head of                    category                                               body\n",
      "0                    Policy  WASHINGTON—The Federal Reserve Board of Govern...\n",
      "1                    Policy  There should be no rise until the Fed has retu...\n",
      "2                    Policy  BEFORE the financial crisis life was simple fo...\n",
      "3                    Policy  James Rickards is a hedge fund manager in New ...\n",
      "4                    Policy  • The Federal Reserve announced it would launc...\n",
      "5                    Policy  At its annual meeting of the world's central b...\n",
      "6                    Policy  Is the Federal Reserve printing money to finan...\n",
      "7                    Policy  Despite the Federal Reserve’s trillions of dol...\n",
      "8                    Policy  For the first time in a while, Federal Reserve...\n",
      "9                    Policy  Just in the nick of time, as 2014 winds down, ...\n",
      "10                   Policy  FORTUNE — Political dysfunction in D.C. has le...\n",
      "11                   Policy  Reading through the new budget outlook from th...\n",
      "12                   Policy  The fiscal cliff bill’s impact would be far-re...\n",
      "13                   Policy  The bill approved in Congress to avert the so-...\n",
      "14    International_Finance  Sept. 21 (Bloomberg) -- Group of 20 finance ch...\n",
      "15    International_Finance  David Cameron has issued a stark message that ...\n",
      "16    International_Finance  A new potential crisis in Greece makes our sto...\n",
      "17    International_Finance  Growth outlook sensitive to US taper in 2014\\n...\n",
      "18    International_Finance  The Greek economy will keep shrinking next yea...\n",
      "19    International_Finance  BEIJING—China's economy will post growth of 7....\n",
      "20    International_Finance  BEIJING—China's growth prospects this year dep...\n",
      "21    International_Finance  Ukraine's prime minister Mykola Azarov has des...\n",
      "22    International_Finance  The European Commission has predicted that the...\n",
      "23    International_Finance  The euro, the dream of many a politician in th...\n",
      "24    International_Finance  Inappropriate spending cuts could \"strangle\" g...\n",
      "25    International_Finance  July 26 (Bloomberg) -- European Central Bank P...\n",
      "26    International_Finance  Aug. 16 (Bloomberg) -- European economic growt...\n",
      "27    International_Finance  German chancellor Angela Merkel admitted in a ...\n",
      "28    International_Finance  Jan. 13 (Bloomberg) -- China’s economy will ex...\n",
      "29    International_Finance  May 3 (Bloomberg) -- The European Central Bank...\n",
      "...                     ...                                                ...\n",
      "2519        Earning_Reports  Earlier this week, City Pages ran the cover st...\n",
      "2520        Earning_Reports  MONTREAL, QUEBEC, Aug 31, 2015 (Marketwired vi...\n",
      "2521        Earning_Reports  Petron Engg - Updates on Financial Statement f...\n",
      "2522        Earning_Reports  Nineteen of 22 First Nations in the Northwest ...\n",
      "2523        Earning_Reports  CALGARY, ALBERTA--(Marketwired - Aug. 26, 2015...\n",
      "2524        Earning_Reports  The Dodd-Frank Wall Street Reform and Consumer...\n",
      "2525        Earning_Reports  SmartStop Self Storage Inc., which operates 16...\n",
      "2526        Earning_Reports  In part three of this three-part series, Vietn...\n",
      "2527        Earning_Reports  APA reports that representatives of Ministry o...\n",
      "2528        Earning_Reports  An accountant hired last month by Riverhead To...\n",
      "2529        Earning_Reports  CHICAGO & WASHINGTON, Aug 31, 2015 (BUSINESS W...\n",
      "2530        Earning_Reports  Tsinghua University, Zhejiang University, Peki...\n",
      "2531        Earning_Reports  Section 436 of the new Companies Ordinance (Ch...\n",
      "2532        Earning_Reports  County gets clean bill of health for 2014 fina...\n",
      "2533        Earning_Reports  NEW YORK--(BUSINESS WIRE)--Amid ongoing challe...\n",
      "2534        Earning_Reports  RALEIGH, N.C., Sept. 03, 2015 (GLOBE NEWSWIRE)...\n",
      "2535        Earning_Reports  This article was co-authored by Dr. Matthew Ga...\n",
      "2536        Earning_Reports  \"You have to understand accounting and you hav...\n",
      "2537        Earning_Reports  Ullink has partnered with Tradegate Exchange, ...\n",
      "2538        Earning_Reports  Vanguard Natural Resources, LLC VNR, -4.77% (\"...\n",
      "2539        Earning_Reports  LOS ANGELES--(BUSINESS WIRE)--American Apparel...\n",
      "2540        Earning_Reports  Rodolfo Linares had his first inside look at t...\n",
      "2541        Earning_Reports  A Cut Bank woman has refiled a petition to hav...\n",
      "2542        Earning_Reports  FAYETTEVILLE (KFSM) — Unlike 2014, supporters ...\n",
      "2543        Earning_Reports  Rock Center for Corporate Governance at Stanfo...\n",
      "2544        Earning_Reports  RAMAT GAN, Israel, Aug 31, 2015 (BUSINESS WIRE...\n",
      "2545        Earning_Reports  TORONTO, ONTARIO, Aug 31, 2015 (Marketwired vi...\n",
      "2546        Earning_Reports  As we come to the end of another financial yea...\n",
      "2547        Earning_Reports  Mainstay Medical International plc (“Mainstay”...\n",
      "2548        Earning_Reports  On June 30, 2015, the Canadian federal governm...\n",
      "\n",
      "[2549 rows x 2 columns]>\n"
     ]
    }
   ],
   "source": [
    "# Fetch articles from DB\n",
    "\n",
    "conn = sqlite3.connect(\"finance_corpus.db\")\n",
    "df = pd.read_sql(\"SELECT category, body from articles\",conn)\n",
    "\n",
    "print df.head\n",
    "\n",
    "categories = []\n",
    "articles = []\n",
    "\n",
    "for index, row in df.iterrows():\n",
    "    \n",
    "    categories.append(row['category'])\n",
    "    #(s.decode('unicode_escape').encode('ascii','ignore'))\n",
    "    articles.append(row['body'])\n",
    "    "
   ]
  },
  {
   "cell_type": "markdown",
   "metadata": {},
   "source": [
    "# Preprocessing "
   ]
  },
  {
   "cell_type": "markdown",
   "metadata": {},
   "source": [
    "Note: Ensure to download stopwords and punkt from NLTK using nltk.download() more at http://www.nltk.org/data.html"
   ]
  },
  {
   "cell_type": "code",
   "execution_count": 123,
   "metadata": {
    "collapsed": false
   },
   "outputs": [],
   "source": [
    "import string\n",
    "from nltk.corpus import stopwords\n",
    "from nltk import word_tokenize\n",
    "from nltk.stem import PorterStemmer\n",
    "\n",
    "\n",
    "def preprocessing(text,stem=False):\n",
    "    \n",
    "    \n",
    "    # Remove punctuations\n",
    "    exclude = set(string.punctuation)\n",
    "    text = ''.join(ch for ch in text if ch not in exclude)\n",
    "    \n",
    "    tokens = word_tokenize(text)\n",
    "    #stop = stopwords.words('english')\n",
    "    #tokens =[word for word in tokens if word not in stop]\n",
    "    #tokens = [word.lower() for word in tokens]\n",
    "\n",
    "    if stem:\n",
    "        stemmer = PorterStemmer()\n",
    "        tokens = [stemmer.stem(t) for t in tokens]\n",
    "        \n",
    "    return tokens\n",
    "    "
   ]
  },
  {
   "cell_type": "code",
   "execution_count": 131,
   "metadata": {
    "collapsed": false
   },
   "outputs": [],
   "source": [
    "# Preprocess all articles. To be used for Doc2Vec\n",
    "# categories, articles\n",
    "\n",
    "#articles_tokens = []\n",
    "#for article in articles:\n",
    "#    articles_tokens.append(preprocessing(article))\n",
    "    \n",
    "    \n",
    "        "
   ]
  },
  {
   "cell_type": "markdown",
   "metadata": {},
   "source": [
    "# Train & Test Model"
   ]
  },
  {
   "cell_type": "code",
   "execution_count": 134,
   "metadata": {
    "collapsed": false,
    "scrolled": false
   },
   "outputs": [
    {
     "name": "stdout",
     "output_type": "stream",
     "text": [
      "             precision    recall  f1-score   support\n",
      "\n",
      "    Capital       0.97      0.93      0.95        91\n",
      "Commodities       0.88      0.90      0.89        78\n",
      "Earning_Reports       0.94      0.96      0.95        84\n",
      "    Economy       0.90      0.83      0.87        90\n",
      "      Fraud       0.92      0.93      0.93        89\n",
      "International_Finance       0.85      0.89      0.87        84\n",
      " Litigation       0.93      0.95      0.94        66\n",
      "Mergers_Acquisitions       0.98      0.94      0.96        67\n",
      "        Oil       0.93      0.97      0.95        79\n",
      "     Policy       0.86      0.85      0.85        86\n",
      "Real_Estate       0.93      0.89      0.91        28\n",
      "\n",
      "avg / total       0.92      0.91      0.91       842\n",
      "\n"
     ]
    }
   ],
   "source": [
    "from sklearn.cross_validation import train_test_split\n",
    "from sklearn.feature_extraction.text import TfidfVectorizer\n",
    "from sklearn.cross_validation import KFold\n",
    "from sklearn.metrics import classification_report\n",
    "from sklearn.svm import LinearSVC\n",
    "from sklearn.preprocessing import LabelEncoder\n",
    "from sklearn.grid_search import GridSearchCV\n",
    "import numpy as np\n",
    "\n",
    "\n",
    "tfidf_vec = TfidfVectorizer(tokenizer=preprocessing,\n",
    "                            stop_words=stopwords.words('english'),\n",
    "                            sublinear_tf=True,\n",
    "                            use_idf=True)\n",
    "\n",
    "tokens_vec = tfidf_vec.fit_transform(articles)\n",
    "\n",
    "\n",
    "\n",
    "X = tokens_vec\n",
    "le = LabelEncoder()\n",
    "y = le.fit_transform(categories)\n",
    "\n",
    "X_train, X_test, y_train, y_test = train_test_split(X,y, test_size=0.33, random_state=13)\n",
    "clf = LinearSVC(C=1.0,loss='squared_hinge',max_iter=2000)\n",
    "\n",
    "def train():\n",
    "\n",
    "    cross_val = KFold(len(y),n_folds=3,shuffle=True)\n",
    "    for train_index, test_index in cross_val:\n",
    "        X_train,X_test = X[train_index], X[test_index]\n",
    "        y_train,y_test = y[train_index], y[test_index]\n",
    "\n",
    "        clf.fit(X_train,y_train)\n",
    "        y_pred = clf.predict(X_test)\n",
    "        #print classification_report(le.inverse_transform(y_test),le.inverse_transform(y_pred))\n",
    "\n",
    "\n",
    "\n",
    "def best_parameters():\n",
    "    \n",
    "    penalties = np.array([0.1,0.2,0.3,0.4,0.5,0.6,0.7,0.8,0.9,1.0,1.1,1.2,1.3,1.4,1.5,2.0])\n",
    "    loss = ['hinge','squared_hinge']\n",
    "    \n",
    "    model = LinearSVC()\n",
    "    grid = GridSearchCV(estimator=model ,n_jobs=5,param_grid=dict(C=penalties,loss=loss,max_iter=[2000]))\n",
    "    grid.fit(X_train, y_train)\n",
    "    print(grid)\n",
    "        \n",
    "    # summarize the results of the grid search\n",
    "    print(grid.best_score_)\n",
    "    print(grid.best_estimator_.C)\n",
    "    print(grid.best_estimator_.loss)\n",
    "    \n",
    "#best_parameters()\n",
    "train()\n",
    "  \n",
    "y_pred = clf.predict(X_test)\n",
    "print classification_report(le.inverse_transform(y_test),le.inverse_transform(y_pred))\n"
   ]
  },
  {
   "cell_type": "code",
   "execution_count": null,
   "metadata": {
    "collapsed": true
   },
   "outputs": [],
   "source": []
  },
  {
   "cell_type": "code",
   "execution_count": null,
   "metadata": {
    "collapsed": true
   },
   "outputs": [],
   "source": []
  }
 ],
 "metadata": {
  "kernelspec": {
   "display_name": "Python 2",
   "language": "python",
   "name": "python2"
  },
  "language_info": {
   "codemirror_mode": {
    "name": "ipython",
    "version": 2
   },
   "file_extension": ".py",
   "mimetype": "text/x-python",
   "name": "python",
   "nbconvert_exporter": "python",
   "pygments_lexer": "ipython2",
   "version": "2.7.6"
  }
 },
 "nbformat": 4,
 "nbformat_minor": 0
}
