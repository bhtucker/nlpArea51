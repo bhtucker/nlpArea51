{
 "cells": [
  {
   "cell_type": "code",
   "execution_count": 1,
   "metadata": {
    "collapsed": false
   },
   "outputs": [],
   "source": [
    "from sklearn.svm import LinearSVC\n",
    "from gensim.models import Word2Vec\n",
    "from sklearn import metrics\n",
    "from sklearn.naive_bayes import MultinomialNB\n",
    "from sklearn import svm\n",
    "from sklearn.preprocessing import LabelEncoder\n",
    "from sklearn.feature_extraction.text import TfidfVectorizer\n",
    "#from abstract import *\n",
    "from sklearn.datasets import fetch_20newsgroups\n",
    "from nltk.corpus import stopwords\n",
    "from sklearn.grid_search import GridSearchCV\n",
    "import numpy as np\n",
    "from sklearn.cross_validation import cross_val_score, KFold\n",
    "from sklearn.metrics import classification_report\n",
    "import sys\n",
    "\n"
   ]
  },
  {
   "cell_type": "code",
   "execution_count": 2,
   "metadata": {
    "collapsed": false
   },
   "outputs": [],
   "source": [
    "categories = ['alt.atheism','rec.sport.baseball','talk.politics.mideast','comp.graphics', 'sci.space']\n",
    "newsgroups_train = fetch_20newsgroups(subset='train',categories=categories, remove=('headers', 'footers', 'quotes'))\n",
    "newsgroups_test = fetch_20newsgroups(subset='test',categories=categories, remove=('headers', 'footers', 'quotes'))"
   ]
  },
  {
   "cell_type": "code",
   "execution_count": 3,
   "metadata": {
    "collapsed": false,
    "scrolled": false
   },
   "outputs": [],
   "source": [
    "from pprint import pprint\n",
    "#pprint(newsgroups_train)"
   ]
  },
  {
   "cell_type": "markdown",
   "metadata": {},
   "source": [
    "# Preprocessing "
   ]
  },
  {
   "cell_type": "code",
   "execution_count": 4,
   "metadata": {
    "collapsed": false
   },
   "outputs": [],
   "source": [
    "import string\n",
    "from nltk.corpus import stopwords\n",
    "from nltk import word_tokenize\n",
    "from nltk.stem import PorterStemmer\n",
    "\n",
    "\n",
    "def preprocessing(text,stem=False, stop=False, sent=False):\n",
    "    \n",
    "    \n",
    "    # Remove punctuations\n",
    "    exclude = set(string.punctuation)\n",
    "    text = ''.join(ch for ch in text if ch not in exclude)\n",
    "    \n",
    " \n",
    "    tokens = word_tokenize(text)\n",
    "    \n",
    "    if stop:\n",
    "        stop = stopwords.words('english')\n",
    "        tokens =[word for word in tokens if word not in stop]\n",
    "        tokens = [word.lower() for word in tokens]\n",
    "\n",
    "    if stem:\n",
    "        stemmer = PorterStemmer()\n",
    "        tokens = [stemmer.stem(t) for t in tokens]\n",
    "    \n",
    "    if sent:\n",
    "        tokens = ' '.join(tokens)\n",
    "        \n",
    "    return tokens\n",
    "    \n",
    "\n"
   ]
  },
  {
   "cell_type": "markdown",
   "metadata": {},
   "source": [
    "\n",
    "# Using TF-IDF "
   ]
  },
  {
   "cell_type": "code",
   "execution_count": 5,
   "metadata": {
    "collapsed": false
   },
   "outputs": [
    {
     "name": "stdout",
     "output_type": "stream",
     "text": [
      "             precision    recall  f1-score   support\n",
      "\n",
      "          0       0.73      0.70      0.71       319\n",
      "          1       0.88      0.87      0.88       389\n",
      "          2       0.82      0.90      0.86       397\n",
      "          3       0.80      0.83      0.81       394\n",
      "          4       0.87      0.78      0.82       376\n",
      "\n",
      "avg / total       0.82      0.82      0.82      1875\n",
      "\n"
     ]
    }
   ],
   "source": [
    "vectorizer = TfidfVectorizer(tokenizer=preprocessing,\n",
    "                             stop_words=stopwords.words('english'))\n",
    "le = LabelEncoder()\n",
    "\n",
    "# Training \n",
    "vectors_train = vectorizer.fit_transform(newsgroups_train.data)\n",
    "labels_train = le.fit_transform(newsgroups_train.target)\n",
    "\n",
    "# Just for debug quickly reassign labels\n",
    "X = vectors_train\n",
    "y = labels_train\n",
    "\n",
    "\n",
    "#clf = MultinomialNB(alpha=.01)\n",
    "clf = svm.SVC(kernel='linear', C = 1.0)\n",
    "\n",
    "# Evaluate using cross validation\n",
    "cross_val = KFold(len(newsgroups_train.target),n_folds=5,shuffle=True)\n",
    "\n",
    "#for train_index, test_index in cross_val:\n",
    "#    X_train,X_test = X[train_index],X[test_index]\n",
    "#    y_train,y_test = y[train_index],y[test_index]\n",
    "#    clf.fit(X_train,y_train)\n",
    "#    y_pred = clf.predict(X_test)\n",
    "#    print classification_report(le.inverse_transform(y_test),le.inverse_transform(y_pred))\n",
    "#    print metrics.confusion_matrix(y_pred,y_test)\n",
    "\n",
    "clf.fit(vectors_train, newsgroups_train.target)\n",
    "vectors_test = vectorizer.transform(newsgroups_test.data)\n",
    "pred = clf.predict(vectors_test)\n",
    "\n",
    "#print metrics.f1_score(newsgroups_test.target, pred)\n",
    "print classification_report(le.inverse_transform(newsgroups_test.target),le.inverse_transform(pred))\n"
   ]
  },
  {
   "cell_type": "markdown",
   "metadata": {},
   "source": [
    "# Using Doc2Vec"
   ]
  },
  {
   "cell_type": "code",
   "execution_count": 6,
   "metadata": {
    "collapsed": false
   },
   "outputs": [],
   "source": [
    "#Preprocessing for Doc2Vec \n",
    "def clean_news(articles):\n",
    "    \n",
    "    clean = []\n",
    "    \n",
    "    for article in articles:\n",
    "        clean.append(preprocessing(article,stop=True,sent=False, stem=False))\n",
    "        #print clean\n",
    "        #sys.exit(1)\n",
    "    \n",
    "    return clean\n",
    "        \n",
    "\n",
    "newsgroups_train.data = clean_news(newsgroups_train.data)\n",
    "newsgroups_test.data = clean_news(newsgroups_test.data)"
   ]
  },
  {
   "cell_type": "code",
   "execution_count": 7,
   "metadata": {
    "collapsed": true
   },
   "outputs": [],
   "source": [
    "from gensim.models import Doc2Vec\n",
    "import gensim.models.doc2vec\n",
    "\n",
    "from collections import OrderedDict\n",
    "import multiprocessing\n",
    "from gensim.models.doc2vec import TaggedDocument\n",
    "import sys\n",
    "\n",
    "cores = multiprocessing.cpu_count()\n",
    "assert gensim.models.doc2vec.FAST_VERSION > -1, \"this will be painfully slow otherwise\"\n"
   ]
  },
  {
   "cell_type": "code",
   "execution_count": 8,
   "metadata": {
    "collapsed": false
   },
   "outputs": [
    {
     "name": "stdout",
     "output_type": "stream",
     "text": [
      "4693 docs: 2818 train, 1875 test\n",
      "2818\n"
     ]
    }
   ],
   "source": [
    "from collections import namedtuple\n",
    "import nltk\n",
    "from gensim.models.doc2vec import  LabeledSentence\n",
    "import sys\n",
    "\n",
    "\n",
    "\n",
    "#NewsgroupDocument = namedtuple('NewsGroupDocument', 'words tags split category')\n",
    "#doc_count = 0 # Used to generate unique id for all documents across both train and test\n",
    "\n",
    "all_newsgroup_documents = []\n",
    "\n",
    "#Used to convert newsgroup corpus into Doc2Vec formats\n",
    "def convert_newsgroup(docs,split):\n",
    "    #global doc_count\n",
    "    tagged_documents = []\n",
    "    \n",
    "    for i,v in enumerate(docs):\n",
    "        label = '%s_%s'%(split,i)\n",
    "        tagged_documents.append(LabeledSentence(v, [label]))\n",
    "    \n",
    "    return tagged_documents\n",
    "    \n",
    "    #for doc, label in zip(docs,labels):\n",
    "      #  doc_count += 1\n",
    "        #print doc\n",
    "        #words = gensim.utils.to_unicode(doc).split() # expected by gensim\n",
    "        #tags = [doc_count] #needs to be a list. Exp with having multiple tags\n",
    "        #all_newsgroup_documents.append(NewsgroupDocument(words,tags,split,label))\n",
    "        #print words\n",
    "        \n",
    "        #if doc_count == 5:\n",
    "        #    print all_newsgroup_documents\n",
    "        #    break\n",
    "            #sys.exit(0)\n",
    "    \n",
    "test_docs = convert_newsgroup(newsgroups_test.data,'test')\n",
    "train_docs = convert_newsgroup(newsgroups_train.data,'train')\n",
    "\n",
    "all_newsgroup_documents.extend(train_docs)\n",
    "all_newsgroup_documents.extend(test_docs)\n",
    "#train_docs = [doc for doc in all_newsgroup_documents if doc.split == 'train']\n",
    "#test_docs = [doc for doc in all_newsgroup_documents if doc.split == 'test']\n",
    "doc_list = all_newsgroup_documents[:]  # for reshuffling per pass\n",
    "\n",
    "print('%d docs: %d train, %d test' % (len(doc_list), len(train_docs), len(test_docs)))\n",
    "print(len(newsgroups_train.target))"
   ]
  },
  {
   "cell_type": "markdown",
   "metadata": {},
   "source": [
    "### Set Up Doc2Vec"
   ]
  },
  {
   "cell_type": "code",
   "execution_count": 9,
   "metadata": {
    "collapsed": false
   },
   "outputs": [],
   "source": [
    "#Doc2Vec(dm=0, dm_concat=1, size=300, window=5, negative=5, hs=0, min_count=3, workers=cores)\n",
    "#Doc2Vec(dm=0, dm_mean=1, size=300, window=5, negative=5, hs=0, min_count=3, workers=cores),\n",
    "\n",
    "dbow_model = Doc2Vec(dm=0, dm_concat=1,sample=1e-5, size=300, window=5, negative=5, hs=0, min_count=2, workers=cores)\n",
    "dm_model =  Doc2Vec(dm=1, dm_mean=1, sample=1e-5, size=300, window=10, negative=5, hs=0, min_count=2, workers=cores)\n",
    "\n",
    "# TODO speed setup by sharing results of 1st model's vocabulary scan\n",
    "dbow_model.load_word2vec_format('/home/skillachie/Downloads/GoogleNews-vectors-negative300.bin.gz', binary=True)\n",
    "dbow_model.build_vocab(all_newsgroup_documents)  # PV-DM/concat requires one special NULL word so it serves as template\n",
    "\n",
    "dm_model.load_word2vec_format('/home/skillachie/Downloads/GoogleNews-vectors-negative300.bin.gz', binary=True)\n",
    "dm_model.build_vocab(all_newsgroup_documents)  # PV-DM/concat requires one special NULL word so it serves as template\n",
    "\n",
    "\n",
    "\n",
    "# Models to evaluate\n",
    "#simple_models = [\n",
    " \n",
    "    # PV-DBOW  0.86 with Stem & hs=0\n",
    "    #Doc2Vec(dm=0, dm_concat=1,sample=1e-5, size=300, window=5, negative=5, hs=0, min_count=2, workers=cores),\n",
    "    \n",
    "    #\n",
    "    #Doc2Vec(dm=0, dm_mean=1, sample=1e-5,size=300, window=5, negative=5, hs=0, min_count=2, workers=cores),\n",
    "    \n",
    "    \n",
    "    #Doc2Vec(dm=0, size=300, negative=5, hs=0, min_count=1, workers=cores),\n",
    "    \n",
    "    # PV-DM w/average No good 0.84\n",
    "    #Doc2Vec(dm=1, dm_mean=1, sample=1e-5, size=300, window=10, negative=5, hs=0, min_count=2, workers=cores),\n",
    "    \n",
    "    # PV-DM w/sum\n",
    "    #Doc2Vec(dm=1, dm_mean=0, size=100, window=10, negative=5, hs=0, min_count=2, workers=cores),\n",
    "#]\n",
    "\n",
    "# speed setup by sharing results of 1st model's vocabulary scan\n",
    "#simple_models[0].load_word2vec_format('/home/skillachie/Downloads/GoogleNews-vectors-negative300.bin.gz', binary=True)\n",
    "#simple_models[0].build_vocab(all_newsgroup_documents)  # PV-DM/concat requires one special NULL word so it serves as template\n",
    "\n",
    "\n",
    "#print(simple_models[0])\n",
    "\n",
    "#for model in simple_models[1:]:\n",
    "    #model.reset_from(simple_models[0])\n",
    "#    model.load_word2vec_forma('/home/skillachie/nlpArea51/doc2vec/GoogleNews-vectors-negative300.bin', binary=True)\n",
    "#    model.build_vocab(all_newsgroup_documents)\n",
    "#    print(model)\n",
    "\n",
    "#models_by_name = OrderedDict((str(model), model) for model in simple_models)"
   ]
  },
  {
   "cell_type": "code",
   "execution_count": 10,
   "metadata": {
    "collapsed": false
   },
   "outputs": [],
   "source": [
    "from gensim.test.test_doc2vec import ConcatenatedDoc2Vec\n",
    "dbow_dmm_model = ConcatenatedDoc2Vec([dbow_model, dm_model])\n",
    "#models_by_name['dbow+dmc'] = ConcatenatedDoc2Vec([simple_models[1], simple_models[0]])"
   ]
  },
  {
   "cell_type": "markdown",
   "metadata": {},
   "source": [
    "### Prediction and Evaluation"
   ]
  },
  {
   "cell_type": "markdown",
   "metadata": {},
   "source": [
    "### Training"
   ]
  },
  {
   "cell_type": "markdown",
   "metadata": {},
   "source": [
    "Why is bulk training done with all the  docs from train, test,  and dev ? Compared to other methods training is only done on the training dataset "
   ]
  },
  {
   "cell_type": "code",
   "execution_count": 11,
   "metadata": {
    "collapsed": true
   },
   "outputs": [],
   "source": [
    "from collections import defaultdict\n",
    "best_error = defaultdict(lambda :1.0)  # to selectively-print only best errors achieved"
   ]
  },
  {
   "cell_type": "code",
   "execution_count": 12,
   "metadata": {
    "collapsed": false
   },
   "outputs": [],
   "source": [
    "#Get Vectors From Word2Vec\n",
    "def extract_vectors(model,docs):\n",
    "    \n",
    "    vectors_list = []\n",
    "    \n",
    "    for doc_no in range(len(docs)):\n",
    "        doc_label = docs[doc_no].tags[0]\n",
    "        doc_vector = model.docvecs[doc_label]\n",
    "        vectors_list.append(doc_vector)\n",
    "        \n",
    "    return vectors_list\n",
    "\n",
    "# TODO inferred vectors\n",
    "\n",
    "def get_infer_vectors(model,docs):\n",
    "    \n",
    "    vecs = []\n",
    "    for doc in docs:\n",
    "        vecs.append(model.infer_vector(doc.words))\n",
    "    return vecs\n",
    "    \n",
    "    "
   ]
  },
  {
   "cell_type": "code",
   "execution_count": 13,
   "metadata": {
    "collapsed": false,
    "scrolled": false
   },
   "outputs": [
    {
     "name": "stdout",
     "output_type": "stream",
     "text": [
      "0.025\n",
      "0.02476\n",
      "0.02452\n",
      "0.02428\n",
      "0.02404\n",
      "0.0238\n",
      "0.02356\n",
      "0.02332\n",
      "0.02308\n",
      "0.02284\n",
      "0.0226\n",
      "0.02236\n",
      "0.02212\n",
      "0.02188\n",
      "0.02164\n",
      "0.0214\n",
      "0.02116\n",
      "0.02092\n",
      "0.02068\n",
      "0.02044\n",
      "0.0202\n",
      "0.01996\n",
      "0.01972\n",
      "0.01948\n",
      "0.01924\n",
      "0.019\n",
      "0.01876\n",
      "0.01852\n",
      "0.01828\n",
      "0.01804\n",
      "0.0178\n",
      "0.01756\n",
      "0.01732\n",
      "0.01708\n",
      "0.01684\n",
      "0.0166\n",
      "0.01636\n",
      "0.01612\n",
      "0.01588\n",
      "0.01564\n",
      "0.0154\n",
      "0.01516\n",
      "0.01492\n",
      "0.01468\n",
      "0.01444\n",
      "0.0142\n",
      "0.01396\n",
      "0.01372\n",
      "0.01348\n",
      "0.01324\n",
      "0.013\n",
      "0.01276\n",
      "0.01252\n",
      "0.01228\n",
      "0.01204\n",
      "0.0118\n",
      "0.01156\n",
      "0.01132\n",
      "0.01108\n",
      "0.01084\n",
      "0.0106\n",
      "0.01036\n",
      "0.01012\n",
      "0.00988\n",
      "0.00964\n",
      "0.0094\n",
      "0.00916\n",
      "0.00892\n",
      "0.00868\n",
      "0.00844\n",
      "0.0082\n",
      "0.00796\n",
      "0.00772\n",
      "0.00748\n",
      "0.00724\n",
      "0.007\n",
      "0.00676\n",
      "0.00652\n",
      "0.00628\n",
      "0.00604\n",
      "0.0058\n",
      "0.00556\n",
      "0.00532\n",
      "0.00508\n",
      "0.00484\n",
      "0.0046\n",
      "0.00436\n",
      "0.00412\n",
      "0.00388\n",
      "0.00364\n",
      "0.0034\n",
      "0.00316\n",
      "0.00292\n",
      "0.00268\n",
      "0.00244\n",
      "0.0022\n",
      "0.00196\n",
      "0.00172\n",
      "0.00148\n",
      "0.00124\n"
     ]
    }
   ],
   "source": [
    "\n",
    "from random import shuffle\n",
    "alpha, min_alpha, passes = (0.025, 0.001, 100)\n",
    "alpha_delta = (alpha - min_alpha) / passes\n",
    "from sklearn.grid_search import GridSearchCV\n",
    "from sklearn.svm import LinearSVC\n",
    "\n",
    "\n",
    "for epoch in range(passes):\n",
    "    shuffle(doc_list)\n",
    "    \n",
    "    #for name, train_model in models_by_name.items():\n",
    "        \n",
    "    #Train\n",
    "    print alpha\n",
    "    \n",
    "    dbow_model.alpha, dbow_model.min_alpha = alpha, alpha\n",
    "    dbow_model.train(doc_list)\n",
    "    \n",
    "    dm_model.alpha, dm_model.min_alpha = alpha, alpha\n",
    "    dm_model.train(doc_list)\n",
    "    \n",
    "    \n",
    "    dbow_dmm_model.alpha, dbow_dmm_model.min_alpha = alpha, alpha\n",
    "    dbow_dmm_model.train(doc_list)\n",
    "    \n",
    "    \n",
    "    \n",
    "        \n",
    "    alpha -= alpha_delta\n",
    "    "
   ]
  },
  {
   "cell_type": "code",
   "execution_count": 14,
   "metadata": {
    "collapsed": false
   },
   "outputs": [
    {
     "name": "stdout",
     "output_type": "stream",
     "text": [
      "             precision    recall  f1-score   support\n",
      "\n",
      "          0       0.81      0.74      0.77       319\n",
      "          1       0.91      0.92      0.91       389\n",
      "          2       0.83      0.93      0.87       397\n",
      "          3       0.89      0.85      0.87       394\n",
      "          4       0.86      0.84      0.85       376\n",
      "\n",
      "avg / total       0.86      0.86      0.86      1875\n",
      "\n"
     ]
    }
   ],
   "source": [
    "#Evaluation\n",
    "train_vectors = extract_vectors(dbow_dmm_model,train_docs)\n",
    "test_vectors = extract_vectors(dbow_dmm_model,test_docs)\n",
    "\n",
    "\n",
    "\n",
    "#model = LinearSVC()\n",
    "#penalties = np.array([0.001,0.002,0.003,0.004,0.005,0.007,0.008,0.009,0.01,0.05,0.04,0.03,0.02])\n",
    "#grid = GridSearchCV(estimator=model ,n_jobs=7,param_grid=dict(C=penalties))\n",
    "#grid.fit(train_vectors, newsgroups_train.target)\n",
    "        \n",
    "# summarize the results of the grid search\n",
    "#print(grid.best_score_)\n",
    "#print(grid.best_estimator_.C)\n",
    "\n",
    "#clf = LinearSVC(C=0.009)\n",
    "clf = LinearSVC(C=0.0025)\n",
    "clf.fit(train_vectors, newsgroups_train.target)\n",
    "\n",
    "predDoc = clf.predict(test_vectors)\n",
    "        \n",
    "print classification_report(le.inverse_transform(newsgroups_test.target),le.inverse_transform(predDoc))"
   ]
  },
  {
   "cell_type": "code",
   "execution_count": null,
   "metadata": {
    "collapsed": true
   },
   "outputs": [],
   "source": []
  },
  {
   "cell_type": "code",
   "execution_count": null,
   "metadata": {
    "collapsed": true
   },
   "outputs": [],
   "source": []
  }
 ],
 "metadata": {
  "kernelspec": {
   "display_name": "Python 2",
   "language": "python",
   "name": "python2"
  },
  "language_info": {
   "codemirror_mode": {
    "name": "ipython",
    "version": 2
   },
   "file_extension": ".py",
   "mimetype": "text/x-python",
   "name": "python",
   "nbconvert_exporter": "python",
   "pygments_lexer": "ipython2",
   "version": "2.7.6"
  }
 },
 "nbformat": 4,
 "nbformat_minor": 0
}
