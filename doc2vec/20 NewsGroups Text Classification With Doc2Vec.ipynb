{
 "cells": [
  {
   "cell_type": "code",
   "execution_count": 1,
   "metadata": {
    "collapsed": false
   },
   "outputs": [
    {
     "name": "stderr",
     "output_type": "stream",
     "text": [
      "/Users/bhtucker/.virtualenvs/citadel/lib/python2.7/site-packages/sklearn/cross_validation.py:44: DeprecationWarning: This module was deprecated in version 0.18 in favor of the model_selection module into which all the refactored classes and functions are moved. Also note that the interface of the new CV iterators are different from that of this module. This module will be removed in 0.20.\n",
      "  \"This module will be removed in 0.20.\", DeprecationWarning)\n",
      "/Users/bhtucker/.virtualenvs/citadel/lib/python2.7/site-packages/sklearn/grid_search.py:43: DeprecationWarning: This module was deprecated in version 0.18 in favor of the model_selection module into which all the refactored classes and functions are moved. This module will be removed in 0.20.\n",
      "  DeprecationWarning)\n"
     ]
    }
   ],
   "source": [
    "from sklearn.svm import LinearSVC\n",
    "from gensim.models import Word2Vec\n",
    "from sklearn import metrics\n",
    "from sklearn.naive_bayes import MultinomialNB\n",
    "from sklearn import svm\n",
    "from sklearn.preprocessing import LabelEncoder\n",
    "from sklearn.feature_extraction.text import TfidfVectorizer\n",
    "#from abstract import *\n",
    "from sklearn.datasets import fetch_20newsgroups\n",
    "from nltk.corpus import stopwords\n",
    "from sklearn.grid_search import GridSearchCV\n",
    "import numpy as np\n",
    "from sklearn.cross_validation import cross_val_score, KFold, StratifiedKFold\n",
    "from sklearn.metrics import classification_report\n",
    "import sys\n",
    "\n"
   ]
  },
  {
   "cell_type": "code",
   "execution_count": 2,
   "metadata": {
    "collapsed": false
   },
   "outputs": [],
   "source": [
    "categories = ['alt.atheism','rec.sport.baseball','talk.politics.mideast','comp.graphics', 'sci.space']\n",
    "newsgroups_train = fetch_20newsgroups(subset='train',categories=categories, remove=('headers', 'footers', 'quotes'))\n",
    "newsgroups_test = fetch_20newsgroups(subset='test',categories=categories, remove=('headers', 'footers', 'quotes'))"
   ]
  },
  {
   "cell_type": "code",
   "execution_count": null,
   "metadata": {
    "collapsed": false,
    "scrolled": false
   },
   "outputs": [],
   "source": []
  },
  {
   "cell_type": "markdown",
   "metadata": {},
   "source": [
    "# Preprocessing "
   ]
  },
  {
   "cell_type": "code",
   "execution_count": 3,
   "metadata": {
    "collapsed": false
   },
   "outputs": [],
   "source": [
    "import string\n",
    "from nltk.corpus import stopwords\n",
    "from nltk import word_tokenize\n",
    "from nltk.stem import PorterStemmer\n",
    "\n",
    "\n",
    "def preprocessor(text, stem=False, stop=False, sent=False):\n",
    "    \"\"\"\n",
    "    Tokenize :text use nltk.word_tokenize, optionally:\n",
    "        stemming tokens if :stem\n",
    "        removeing stop words if :stop\n",
    "        joining tokens into one string with whitespace if :sent\n",
    "    \"\"\"\n",
    "    \n",
    "    # Remove punctuations\n",
    "    exclude = set(string.punctuation)\n",
    "    text = ''.join(ch for ch in text if ch not in exclude)\n",
    " \n",
    "    tokens = word_tokenize(text)\n",
    "    \n",
    "    if stop:\n",
    "        stop = stopwords.words('english')\n",
    "        tokens =[word for word in tokens if word not in stop]\n",
    "        tokens = [word.lower() for word in tokens]\n",
    "\n",
    "    if stem:\n",
    "        stemmer = PorterStemmer()\n",
    "        tokens = [stemmer.stem(t) for t in tokens]\n",
    "    \n",
    "    if sent:\n",
    "        tokens = ' '.join(tokens)\n",
    "        \n",
    "    return tokens\n",
    "    \n",
    "\n"
   ]
  },
  {
   "cell_type": "code",
   "execution_count": 4,
   "metadata": {
    "collapsed": false
   },
   "outputs": [
    {
     "name": "stdout",
     "output_type": "stream",
     "text": [
      "u'forgiv ani inaccuraci i delet the origin post isnt thi the same person who wrote the book and wa censur in canada a few year back'\n"
     ]
    }
   ],
   "source": [
    "from pprint import pprint\n",
    "pprint(preprocessor(newsgroups_train.data[0], sent=True, stem=True))\n"
   ]
  },
  {
   "cell_type": "markdown",
   "metadata": {},
   "source": [
    "\n",
    "# Using TF-IDF "
   ]
  },
  {
   "cell_type": "code",
   "execution_count": 4,
   "metadata": {
    "collapsed": true
   },
   "outputs": [],
   "source": [
    "from functools import partial\n",
    "vectorizer = TfidfVectorizer(\n",
    "    tokenizer=partial(preprocessor, stem=True, stop=True)\n",
    "    , ngram_range=(1, 3)\n",
    "    , min_df=3\n",
    ")  # stem=True, stop=True\n",
    "le = LabelEncoder()\n",
    "\n",
    "# Training \n",
    "vectors_train = vectorizer.fit_transform(newsgroups_train.data)\n",
    "labels_train = le.fit_transform(newsgroups_train.target)\n",
    "\n",
    "# Just for debug quickly reassign labels\n",
    "X = vectors_train\n",
    "y = labels_train\n"
   ]
  },
  {
   "cell_type": "code",
   "execution_count": 5,
   "metadata": {
    "collapsed": false
   },
   "outputs": [
    {
     "name": "stdout",
     "output_type": "stream",
     "text": [
      "(2818, 20697)\n"
     ]
    }
   ],
   "source": [
    "nb_classes = len(le.classes_)\n",
    "svd_dims = 200\n",
    "print(X.shape)"
   ]
  },
  {
   "cell_type": "code",
   "execution_count": 6,
   "metadata": {
    "collapsed": false
   },
   "outputs": [
    {
     "name": "stdout",
     "output_type": "stream",
     "text": [
      "             precision    recall  f1-score   support\n",
      "\n",
      "          0       0.78      0.77      0.77       240\n",
      "          1       0.81      0.88      0.84       292\n",
      "          2       0.76      0.90      0.82       299\n",
      "          3       0.82      0.73      0.77       297\n",
      "          4       0.89      0.75      0.81       282\n",
      "\n",
      "avg / total       0.81      0.81      0.81      1410\n",
      "\n",
      "[[184   3   6  18  25]\n",
      " [ 15 257  10  25  10]\n",
      " [ 18  17 268  27  23]\n",
      " [ 11  13  11 218  13]\n",
      " [ 12   2   4   9 211]]\n"
     ]
    }
   ],
   "source": [
    "# from sklearn import metrics\n",
    "# reload(metrics)\n",
    "from sklearn.metrics import brier_score_loss\n",
    "from sklearn.calibration import CalibratedClassifierCV\n",
    "\n",
    "#clf = MultinomialNB(alpha=.01)\n",
    "clf = svm.LinearSVC(C=1., multi_class='ovr', penalty='l1', dual=False)\n",
    "# clf.fit(vectors_train, newsgroups_train.target)\n",
    "\n",
    "\n",
    "# Evaluate using cross validation\n",
    "cross_val = StratifiedKFold(y, n_folds=2, shuffle=True)\n",
    "\n",
    "for svm_train, mlp_train in cross_val:\n",
    "    break\n",
    "\n",
    "X_svm, y_svm = X[svm_train], y[svm_train]\n",
    "X_mlp, y_mlp = X[mlp_train], y[mlp_train]\n",
    "clf.fit(X_svm, y_svm)\n",
    "y_pred = clf.predict(X_mlp)\n",
    "print classification_report(le.inverse_transform(y_mlp),le.inverse_transform(y_pred))\n",
    "print metrics.confusion_matrix(y_pred, y_mlp)\n"
   ]
  },
  {
   "cell_type": "code",
   "execution_count": 7,
   "metadata": {
    "collapsed": true
   },
   "outputs": [],
   "source": [
    "from sklearn.decomposition import TruncatedSVD\n",
    "\n",
    "svd = TruncatedSVD(svd_dims)\n",
    "\n",
    "X_svd = svd.fit_transform(X)"
   ]
  },
  {
   "cell_type": "code",
   "execution_count": 8,
   "metadata": {
    "collapsed": false
   },
   "outputs": [],
   "source": [
    "svm_component = clf.decision_function(X_mlp)\n"
   ]
  },
  {
   "cell_type": "code",
   "execution_count": 9,
   "metadata": {
    "collapsed": false
   },
   "outputs": [
    {
     "data": {
      "text/plain": [
       "(1410, 5)"
      ]
     },
     "execution_count": 9,
     "metadata": {},
     "output_type": "execute_result"
    }
   ],
   "source": [
    "svm_component.shape"
   ]
  },
  {
   "cell_type": "code",
   "execution_count": 10,
   "metadata": {
    "collapsed": false
   },
   "outputs": [
    {
     "data": {
      "text/plain": [
       "(1410, 200)"
      ]
     },
     "execution_count": 10,
     "metadata": {},
     "output_type": "execute_result"
    }
   ],
   "source": [
    "X_svd[mlp_train].shape"
   ]
  },
  {
   "cell_type": "code",
   "execution_count": 12,
   "metadata": {
    "collapsed": false
   },
   "outputs": [],
   "source": [
    "full_X_mlp = np.hstack((svm_component, X_svd[mlp_train]))"
   ]
  },
  {
   "cell_type": "code",
   "execution_count": 13,
   "metadata": {
    "collapsed": false
   },
   "outputs": [
    {
     "data": {
      "text/plain": [
       "(1410, 205)"
      ]
     },
     "execution_count": 13,
     "metadata": {},
     "output_type": "execute_result"
    }
   ],
   "source": [
    "full_X_mlp.shape"
   ]
  },
  {
   "cell_type": "code",
   "execution_count": 21,
   "metadata": {
    "collapsed": false
   },
   "outputs": [],
   "source": [
    "from keras.models import Sequential\n",
    "from keras.layers import Dense, Dropout, Activation\n",
    "model = Sequential()\n",
    "model.add(Dense(512, input_shape=(svd_dims + nb_classes,)))\n",
    "model.add(Activation('relu'))\n",
    "model.add(Dropout(0.5))\n",
    "model.add(Dense(128))\n",
    "model.add(Activation('relu'))\n",
    "model.add(Dropout(0.5))\n",
    "model.add(Dense(nb_classes))\n",
    "model.add(Activation('softmax'))\n"
   ]
  },
  {
   "cell_type": "code",
   "execution_count": 22,
   "metadata": {
    "collapsed": false
   },
   "outputs": [],
   "source": [
    "model.compile(loss='categorical_crossentropy',\n",
    "              optimizer='adam',\n",
    "              metrics=['accuracy'])"
   ]
  },
  {
   "cell_type": "code",
   "execution_count": 18,
   "metadata": {
    "collapsed": false
   },
   "outputs": [
    {
     "data": {
      "text/plain": [
       "array([ 0.,  0.,  0.,  0.,  1.])"
      ]
     },
     "execution_count": 18,
     "metadata": {},
     "output_type": "execute_result"
    }
   ],
   "source": [
    "from keras.utils import np_utils\n",
    "y_mlp_cat = np_utils.to_categorical(y_mlp, nb_classes)\n",
    "y_mlp_cat[0]"
   ]
  },
  {
   "cell_type": "code",
   "execution_count": 23,
   "metadata": {
    "collapsed": false
   },
   "outputs": [
    {
     "name": "stdout",
     "output_type": "stream",
     "text": [
      "Train on 1269 samples, validate on 141 samples\n",
      "Epoch 1/25\n",
      "1269/1269 [==============================] - 0s - loss: 1.0567 - acc: 0.6627 - val_loss: 0.6230 - val_acc: 0.7943\n",
      "Epoch 2/25\n",
      "1269/1269 [==============================] - 0s - loss: 0.5867 - acc: 0.7912 - val_loss: 0.5573 - val_acc: 0.7730\n",
      "Epoch 3/25\n",
      "1269/1269 [==============================] - 0s - loss: 0.5160 - acc: 0.8172 - val_loss: 0.5378 - val_acc: 0.7943\n",
      "Epoch 4/25\n",
      "1269/1269 [==============================] - 0s - loss: 0.4904 - acc: 0.8266 - val_loss: 0.5344 - val_acc: 0.7872\n",
      "Epoch 5/25\n",
      "1269/1269 [==============================] - 0s - loss: 0.4511 - acc: 0.8448 - val_loss: 0.5138 - val_acc: 0.8085\n",
      "Epoch 6/25\n",
      "1269/1269 [==============================] - 0s - loss: 0.4231 - acc: 0.8487 - val_loss: 0.5113 - val_acc: 0.7801\n",
      "Epoch 7/25\n",
      "1269/1269 [==============================] - 0s - loss: 0.4102 - acc: 0.8550 - val_loss: 0.5188 - val_acc: 0.7801\n",
      "Epoch 8/25\n",
      "1269/1269 [==============================] - 0s - loss: 0.3843 - acc: 0.8621 - val_loss: 0.5155 - val_acc: 0.7943\n",
      "Epoch 9/25\n",
      "1269/1269 [==============================] - 0s - loss: 0.3491 - acc: 0.8692 - val_loss: 0.5471 - val_acc: 0.7730\n",
      "Epoch 10/25\n",
      "1269/1269 [==============================] - 0s - loss: 0.3332 - acc: 0.8802 - val_loss: 0.5337 - val_acc: 0.8014\n",
      "Epoch 11/25\n",
      "1269/1269 [==============================] - 0s - loss: 0.3160 - acc: 0.8913 - val_loss: 0.5373 - val_acc: 0.7943\n",
      "Epoch 12/25\n",
      "1269/1269 [==============================] - 0s - loss: 0.3192 - acc: 0.8849 - val_loss: 0.5503 - val_acc: 0.7730\n",
      "Epoch 13/25\n",
      "1269/1269 [==============================] - 0s - loss: 0.2846 - acc: 0.9007 - val_loss: 0.5180 - val_acc: 0.8085\n",
      "Epoch 14/25\n",
      "1269/1269 [==============================] - 0s - loss: 0.2678 - acc: 0.9023 - val_loss: 0.5293 - val_acc: 0.7943\n",
      "Epoch 15/25\n",
      "1269/1269 [==============================] - 0s - loss: 0.2545 - acc: 0.9094 - val_loss: 0.5461 - val_acc: 0.8156\n",
      "Epoch 16/25\n",
      "1269/1269 [==============================] - 0s - loss: 0.2418 - acc: 0.9086 - val_loss: 0.5490 - val_acc: 0.7943\n",
      "Epoch 17/25\n",
      "1269/1269 [==============================] - 0s - loss: 0.2459 - acc: 0.9165 - val_loss: 0.5640 - val_acc: 0.7943\n",
      "Epoch 18/25\n",
      "1269/1269 [==============================] - 0s - loss: 0.2282 - acc: 0.9196 - val_loss: 0.5643 - val_acc: 0.8085\n",
      "Epoch 19/25\n",
      "1269/1269 [==============================] - 0s - loss: 0.1974 - acc: 0.9283 - val_loss: 0.5776 - val_acc: 0.8156\n",
      "Epoch 20/25\n",
      "1269/1269 [==============================] - 0s - loss: 0.1964 - acc: 0.9259 - val_loss: 0.5764 - val_acc: 0.7801\n",
      "Epoch 21/25\n",
      "1269/1269 [==============================] - 0s - loss: 0.1815 - acc: 0.9385 - val_loss: 0.6002 - val_acc: 0.7943\n",
      "Epoch 22/25\n",
      "1269/1269 [==============================] - 0s - loss: 0.1631 - acc: 0.9456 - val_loss: 0.6063 - val_acc: 0.7943\n",
      "Epoch 23/25\n",
      "1269/1269 [==============================] - 0s - loss: 0.1744 - acc: 0.9425 - val_loss: 0.6046 - val_acc: 0.8014\n",
      "Epoch 24/25\n",
      "1269/1269 [==============================] - 0s - loss: 0.1587 - acc: 0.9409 - val_loss: 0.6367 - val_acc: 0.8156\n",
      "Epoch 25/25\n",
      "1269/1269 [==============================] - 0s - loss: 0.1395 - acc: 0.9567 - val_loss: 0.6365 - val_acc: 0.8085\n"
     ]
    },
    {
     "data": {
      "text/plain": [
       "<keras.callbacks.History at 0x115136f10>"
      ]
     },
     "execution_count": 23,
     "metadata": {},
     "output_type": "execute_result"
    }
   ],
   "source": [
    "model.fit(X_svd[mlp_train], y_mlp_cat,\n",
    "        nb_epoch=25, batch_size=32,\n",
    "        verbose=1, validation_split=0.1)"
   ]
  },
  {
   "cell_type": "code",
   "execution_count": 31,
   "metadata": {
    "collapsed": true
   },
   "outputs": [
    {
     "name": "stdout",
     "output_type": "stream",
     "text": [
      "Train on 1269 samples, validate on 141 samples\n",
      "Epoch 1/25\n",
      "1269/1269 [==============================] - 0s - loss: 1.5750 - acc: 0.3499 - val_loss: 1.5199 - val_acc: 0.5674\n",
      "Epoch 2/25\n",
      "1269/1269 [==============================] - 0s - loss: 1.3616 - acc: 0.6367 - val_loss: 1.1939 - val_acc: 0.7801\n",
      "Epoch 3/25\n",
      "1269/1269 [==============================] - 0s - loss: 0.8918 - acc: 0.7770 - val_loss: 0.7484 - val_acc: 0.7730\n",
      "Epoch 4/25\n",
      "1269/1269 [==============================] - 0s - loss: 0.5768 - acc: 0.8345 - val_loss: 0.5910 - val_acc: 0.8156\n",
      "Epoch 5/25\n",
      "1269/1269 [==============================] - 0s - loss: 0.4308 - acc: 0.8700 - val_loss: 0.5404 - val_acc: 0.8085\n",
      "Epoch 6/25\n",
      "1269/1269 [==============================] - 0s - loss: 0.3649 - acc: 0.8842 - val_loss: 0.5119 - val_acc: 0.8298\n",
      "Epoch 7/25\n",
      "1269/1269 [==============================] - 0s - loss: 0.3123 - acc: 0.8991 - val_loss: 0.5167 - val_acc: 0.8369\n",
      "Epoch 8/25\n",
      "1269/1269 [==============================] - 0s - loss: 0.2813 - acc: 0.9054 - val_loss: 0.5146 - val_acc: 0.8298\n",
      "Epoch 9/25\n",
      "1269/1269 [==============================] - 0s - loss: 0.2564 - acc: 0.9180 - val_loss: 0.5316 - val_acc: 0.8369\n",
      "Epoch 10/25\n",
      "1269/1269 [==============================] - 0s - loss: 0.2489 - acc: 0.9188 - val_loss: 0.5517 - val_acc: 0.8440\n",
      "Epoch 11/25\n",
      "1269/1269 [==============================] - 0s - loss: 0.2073 - acc: 0.9346 - val_loss: 0.5442 - val_acc: 0.8227\n",
      "Epoch 12/25\n",
      "1269/1269 [==============================] - 0s - loss: 0.2095 - acc: 0.9322 - val_loss: 0.5562 - val_acc: 0.8227\n",
      "Epoch 13/25\n",
      "1269/1269 [==============================] - 0s - loss: 0.1918 - acc: 0.9385 - val_loss: 0.5487 - val_acc: 0.8156\n",
      "Epoch 14/25\n",
      "1269/1269 [==============================] - 0s - loss: 0.1751 - acc: 0.9393 - val_loss: 0.5680 - val_acc: 0.8369\n",
      "Epoch 15/25\n",
      "1269/1269 [==============================] - 0s - loss: 0.1604 - acc: 0.9535 - val_loss: 0.5782 - val_acc: 0.8156\n",
      "Epoch 16/25\n",
      "1269/1269 [==============================] - 0s - loss: 0.1390 - acc: 0.9598 - val_loss: 0.5940 - val_acc: 0.8227\n",
      "Epoch 17/25\n",
      "1269/1269 [==============================] - 0s - loss: 0.1400 - acc: 0.9551 - val_loss: 0.5996 - val_acc: 0.8298\n",
      "Epoch 18/25\n",
      "1269/1269 [==============================] - 0s - loss: 0.1269 - acc: 0.9598 - val_loss: 0.6026 - val_acc: 0.8085\n",
      "Epoch 19/25\n",
      "1269/1269 [==============================] - 0s - loss: 0.1357 - acc: 0.9567 - val_loss: 0.6142 - val_acc: 0.8014\n",
      "Epoch 20/25\n",
      "1269/1269 [==============================] - 0s - loss: 0.1139 - acc: 0.9645 - val_loss: 0.6235 - val_acc: 0.8156\n",
      "Epoch 21/25\n",
      "1269/1269 [==============================] - 0s - loss: 0.1129 - acc: 0.9677 - val_loss: 0.6413 - val_acc: 0.8156\n",
      "Epoch 22/25\n",
      "1269/1269 [==============================] - 0s - loss: 0.1075 - acc: 0.9693 - val_loss: 0.6617 - val_acc: 0.8227\n",
      "Epoch 23/25\n",
      "1269/1269 [==============================] - 0s - loss: 0.0999 - acc: 0.9685 - val_loss: 0.6796 - val_acc: 0.8014\n",
      "Epoch 24/25\n",
      "1269/1269 [==============================] - 0s - loss: 0.0935 - acc: 0.9701 - val_loss: 0.6787 - val_acc: 0.8156\n",
      "Epoch 25/25\n",
      "1269/1269 [==============================] - 0s - loss: 0.0942 - acc: 0.9732 - val_loss: 0.6840 - val_acc: 0.8085\n"
     ]
    },
    {
     "data": {
      "text/plain": [
       "<keras.callbacks.History at 0x117b4fcd0>"
      ]
     },
     "execution_count": 31,
     "metadata": {},
     "output_type": "execute_result"
    }
   ],
   "source": [
    "from keras.models import Sequential\n",
    "from keras.layers import Dense, Dropout, Activation\n",
    "def get_compiled_model(input_dims):\n",
    "    model = Sequential()\n",
    "    model.add(Dense(512, input_shape=(input_dims,)))\n",
    "    model.add(Activation('relu'))\n",
    "    model.add(Dropout(0.5))\n",
    "    model.add(Dense(128))\n",
    "    model.add(Activation('relu'))\n",
    "    model.add(Dropout(0.5))\n",
    "    model.add(Dense(nb_classes))\n",
    "    model.add(Activation('softmax'))\n",
    "\n",
    "    model.compile(loss='categorical_crossentropy',\n",
    "                  optimizer='adam',\n",
    "                  metrics=['accuracy'])\n",
    "    return model\n",
    "\n",
    "no_svm_model = get_compiled_model(svd_dims)\n",
    "\n",
    "no_svm_model.fit(X_svd[mlp_train], y_mlp_cat,\n",
    "            nb_epoch=25, batch_size=32,\n",
    "            verbose=1, validation_split=0.1)"
   ]
  },
  {
   "cell_type": "code",
   "execution_count": 32,
   "metadata": {
    "collapsed": true
   },
   "outputs": [
    {
     "name": "stdout",
     "output_type": "stream",
     "text": [
      "Train on 1269 samples, validate on 141 samples\n",
      "Epoch 1/25\n",
      "1269/1269 [==============================] - 0s - loss: 1.0576 - acc: 0.6698 - val_loss: 0.6221 - val_acc: 0.7730\n",
      "Epoch 2/25\n",
      "1269/1269 [==============================] - 0s - loss: 0.5830 - acc: 0.8022 - val_loss: 0.5304 - val_acc: 0.8085\n",
      "Epoch 3/25\n",
      "1269/1269 [==============================] - 0s - loss: 0.5176 - acc: 0.8219 - val_loss: 0.5313 - val_acc: 0.8156\n",
      "Epoch 4/25\n",
      "1269/1269 [==============================] - 0s - loss: 0.4820 - acc: 0.8322 - val_loss: 0.5193 - val_acc: 0.8156\n",
      "Epoch 5/25\n",
      "1269/1269 [==============================] - 0s - loss: 0.4523 - acc: 0.8385 - val_loss: 0.5306 - val_acc: 0.7730\n",
      "Epoch 6/25\n",
      "1269/1269 [==============================] - 0s - loss: 0.4288 - acc: 0.8377 - val_loss: 0.5653 - val_acc: 0.7730\n",
      "Epoch 7/25\n",
      "1269/1269 [==============================] - 0s - loss: 0.4125 - acc: 0.8574 - val_loss: 0.4935 - val_acc: 0.8014\n",
      "Epoch 8/25\n",
      "1269/1269 [==============================] - 0s - loss: 0.3836 - acc: 0.8621 - val_loss: 0.5469 - val_acc: 0.7660\n",
      "Epoch 9/25\n",
      "1269/1269 [==============================] - 0s - loss: 0.3669 - acc: 0.8700 - val_loss: 0.5665 - val_acc: 0.7518\n",
      "Epoch 10/25\n",
      "1269/1269 [==============================] - 0s - loss: 0.3569 - acc: 0.8692 - val_loss: 0.5318 - val_acc: 0.7801\n",
      "Epoch 11/25\n",
      "1269/1269 [==============================] - 0s - loss: 0.3392 - acc: 0.8794 - val_loss: 0.5224 - val_acc: 0.7943\n",
      "Epoch 12/25\n",
      "1269/1269 [==============================] - 0s - loss: 0.3227 - acc: 0.8834 - val_loss: 0.5477 - val_acc: 0.7872\n",
      "Epoch 13/25\n",
      "1269/1269 [==============================] - 0s - loss: 0.2943 - acc: 0.8991 - val_loss: 0.5714 - val_acc: 0.7660\n",
      "Epoch 14/25\n",
      "1269/1269 [==============================] - 0s - loss: 0.2833 - acc: 0.8991 - val_loss: 0.5482 - val_acc: 0.8014\n",
      "Epoch 15/25\n",
      "1269/1269 [==============================] - 0s - loss: 0.2702 - acc: 0.9062 - val_loss: 0.5441 - val_acc: 0.7872\n",
      "Epoch 16/25\n",
      "1269/1269 [==============================] - 0s - loss: 0.2440 - acc: 0.9196 - val_loss: 0.5549 - val_acc: 0.7872\n",
      "Epoch 17/25\n",
      "1269/1269 [==============================] - 0s - loss: 0.2443 - acc: 0.9180 - val_loss: 0.5450 - val_acc: 0.8014\n",
      "Epoch 18/25\n",
      "1269/1269 [==============================] - 0s - loss: 0.2158 - acc: 0.9212 - val_loss: 0.5777 - val_acc: 0.7943\n",
      "Epoch 19/25\n",
      "1269/1269 [==============================] - 0s - loss: 0.2086 - acc: 0.9251 - val_loss: 0.5602 - val_acc: 0.8156\n",
      "Epoch 20/25\n",
      "1269/1269 [==============================] - 0s - loss: 0.1897 - acc: 0.9370 - val_loss: 0.5813 - val_acc: 0.7943\n",
      "Epoch 21/25\n",
      "1269/1269 [==============================] - 0s - loss: 0.1940 - acc: 0.9362 - val_loss: 0.6026 - val_acc: 0.7943\n",
      "Epoch 22/25\n",
      "1269/1269 [==============================] - 0s - loss: 0.1668 - acc: 0.9496 - val_loss: 0.6337 - val_acc: 0.7801\n",
      "Epoch 23/25\n",
      "1269/1269 [==============================] - 0s - loss: 0.1580 - acc: 0.9488 - val_loss: 0.6349 - val_acc: 0.7872\n",
      "Epoch 24/25\n",
      "1269/1269 [==============================] - 0s - loss: 0.1652 - acc: 0.9393 - val_loss: 0.6323 - val_acc: 0.7943\n",
      "Epoch 25/25\n",
      "1269/1269 [==============================] - 0s - loss: 0.1488 - acc: 0.9519 - val_loss: 0.6252 - val_acc: 0.8014\n"
     ]
    },
    {
     "data": {
      "text/plain": [
       "<keras.callbacks.History at 0x11890fdd0>"
      ]
     },
     "execution_count": 32,
     "metadata": {},
     "output_type": "execute_result"
    }
   ],
   "source": [
    "mlp_svm_model = get_compiled_model(svd_dims + nb_classes)\n",
    "\n",
    "mlp_svm_model.fit(full_X_mlp, y_mlp_cat,\n",
    "            nb_epoch=25, batch_size=32,\n",
    "            verbose=1, validation_split=0.1)"
   ]
  },
  {
   "cell_type": "code",
   "execution_count": 33,
   "metadata": {
    "collapsed": true
   },
   "outputs": [],
   "source": [
    "vectors_test = vectorizer.transform(newsgroups_test.data)"
   ]
  },
  {
   "cell_type": "code",
   "execution_count": 34,
   "metadata": {
    "collapsed": false
   },
   "outputs": [
    {
     "name": "stdout",
     "output_type": "stream",
     "text": [
      "1875/1875 [==============================] - 0s     \n"
     ]
    }
   ],
   "source": [
    "# no svm confusion results\n",
    "svd_test = svd.transform(vectors_test)\n",
    "no_svm_pred = no_svm_model.predict_classes(svd_test)"
   ]
  },
  {
   "cell_type": "code",
   "execution_count": 37,
   "metadata": {
    "collapsed": false
   },
   "outputs": [],
   "source": [
    "y_test = le.inverse_transform(newsgroups_test.target)"
   ]
  },
  {
   "cell_type": "code",
   "execution_count": 38,
   "metadata": {
    "collapsed": false
   },
   "outputs": [
    {
     "name": "stdout",
     "output_type": "stream",
     "text": [
      "             precision    recall  f1-score   support\n",
      "\n",
      "          0       0.74      0.72      0.73       319\n",
      "          1       0.88      0.84      0.86       389\n",
      "          2       0.79      0.92      0.85       397\n",
      "          3       0.84      0.79      0.82       394\n",
      "          4       0.83      0.81      0.82       376\n",
      "\n",
      "avg / total       0.82      0.82      0.82      1875\n",
      "\n"
     ]
    }
   ],
   "source": [
    "# no_svm_pred = pred\n",
    "print classification_report(y_test, no_svm_pred)"
   ]
  },
  {
   "cell_type": "code",
   "execution_count": 39,
   "metadata": {
    "collapsed": false
   },
   "outputs": [
    {
     "name": "stdout",
     "output_type": "stream",
     "text": [
      "1875/1875 [==============================] - 0s     \n",
      "             precision    recall  f1-score   support\n",
      "\n",
      "          0       0.69      0.72      0.71       319\n",
      "          1       0.85      0.81      0.83       389\n",
      "          2       0.78      0.92      0.85       397\n",
      "          3       0.82      0.79      0.81       394\n",
      "          4       0.85      0.74      0.79       376\n",
      "\n",
      "avg / total       0.80      0.80      0.80      1875\n",
      "\n"
     ]
    }
   ],
   "source": [
    "# svd_test = svm_test\n",
    "svm_test = clf.decision_function(vectors_test)\n",
    "full_X_mlp_test = np.hstack([svm_test, svd_test])\n",
    "mlp_svm_pred = mlp_svm_model.predict_classes(full_X_mlp_test)\n",
    "print classification_report(y_test, mlp_svm_pred)"
   ]
  },
  {
   "cell_type": "code",
   "execution_count": 47,
   "metadata": {
    "collapsed": false
   },
   "outputs": [
    {
     "name": "stdout",
     "output_type": "stream",
     "text": [
      "1875/1875 [==============================] - 0s     \n"
     ]
    },
    {
     "data": {
      "text/plain": [
       "<matplotlib.collections.PathCollection at 0x1183bf550>"
      ]
     },
     "execution_count": 47,
     "metadata": {},
     "output_type": "execute_result"
    },
    {
     "data": {
      "image/png": "[encoded data removed]",
      "text/plain": [
       "<matplotlib.figure.Figure at 0x1198d31d0>"
      ]
     },
     "metadata": {},
     "output_type": "display_data"
    }
   ],
   "source": [
    "%matplotlib inline\n",
    "from matplotlib.pylab import plt\n",
    "from sklearn.calibration import calibration_curve\n",
    "mlp_svm_test_probas = mlp_svm_model.predict_proba(full_X_mlp_test)\n",
    "predicted_class_proba = np.choose(mlp_svm_pred, mlp_svm_test_probas.T)\n",
    "correct_pred = [a == b for a, b in zip(y_test, mlp_svm_pred)]\n",
    "plt.scatter(*calibration_curve(correct_pred, predicted_class_proba, n_bins=20, normalize=True))"
   ]
  },
  {
   "cell_type": "code",
   "execution_count": 49,
   "metadata": {
    "collapsed": false
   },
   "outputs": [
    {
     "name": "stdout",
     "output_type": "stream",
     "text": [
      "1875/1875 [==============================] - 0s     \n",
      "1875/1875 [==============================] - 0s     \n"
     ]
    },
    {
     "data": {
      "image/png": "[encoded data removed]",
      "text/plain": [
       "<matplotlib.figure.Figure at 0x1198d3110>"
      ]
     },
     "metadata": {},
     "output_type": "display_data"
    }
   ],
   "source": [
    "show_multiclass_calibration(no_svm_model, svd_test, y_test)"
   ]
  },
  {
   "cell_type": "code",
   "execution_count": 48,
   "metadata": {
    "collapsed": true
   },
   "outputs": [],
   "source": [
    "def show_multiclass_calibration(model, x_test, y_test):\n",
    "    test_probas = model.predict_proba(x_test)\n",
    "    test_pred = model.predict_classes(x_test)\n",
    "    predicted_class_proba = np.choose(test_pred, test_probas.T)\n",
    "    correct_pred = [a == b for a, b in zip(y_test, test_pred)]\n",
    "    plt.scatter(*calibration_curve(correct_pred, predicted_class_proba, n_bins=20, normalize=True))"
   ]
  },
  {
   "cell_type": "code",
   "execution_count": 27,
   "metadata": {
    "collapsed": false
   },
   "outputs": [
    {
     "data": {
      "text/plain": [
       "1875"
      ]
     },
     "execution_count": 27,
     "metadata": {},
     "output_type": "execute_result"
    }
   ],
   "source": [
    "show_multiclass_calibration"
   ]
  },
  {
   "cell_type": "code",
   "execution_count": 7,
   "metadata": {
    "collapsed": false
   },
   "outputs": [
    {
     "name": "stdout",
     "output_type": "stream",
     "text": [
      "             precision    recall  f1-score   support\n",
      "\n",
      "          0       0.76      0.74      0.75       319\n",
      "          1       0.88      0.89      0.89       389\n",
      "          2       0.84      0.92      0.88       397\n",
      "          3       0.83      0.82      0.83       394\n",
      "          4       0.90      0.82      0.86       376\n",
      "\n",
      "avg / total       0.84      0.84      0.84      1875\n",
      "\n"
     ]
    }
   ],
   "source": [
    "clf = svm.LinearSVC(C=1., multi_class='ovr')\n",
    "calibrated = CalibratedClassifierCV(clf, cv=2, method='isotonic')\n",
    "calibrated.fit(vectors_train, newsgroups_train.target)\n",
    "vectors_test = vectorizer.transform(newsgroups_test.data)\n",
    "pred = calibrated.predict(vectors_test)\n",
    "\n",
    "\n",
    "print classification_report(le.inverse_transform(newsgroups_test.target),le.inverse_transform(pred))\n",
    "# stem and stop 0.82 (.78 - .86)\n",
    "# no stem or stop .81\n",
    "\n",
    "# avg / total       0.83      0.83      0.83      1875\n"
   ]
  },
  {
   "cell_type": "code",
   "execution_count": 88,
   "metadata": {
    "collapsed": false,
    "scrolled": true
   },
   "outputs": [
    {
     "name": "stdout",
     "output_type": "stream",
     "text": [
      "             precision    recall  f1-score   support\n",
      "\n",
      "          0       0.96      0.95      0.96       169\n",
      "          1       0.98      0.99      0.98       282\n",
      "          2       0.99      1.00      0.99       271\n",
      "          3       0.98      0.98      0.98       242\n",
      "          4       0.98      0.97      0.97       221\n",
      "\n",
      "avg / total       0.98      0.98      0.98      1185\n",
      "\n"
     ]
    }
   ],
   "source": [
    "# classification report filtering 'uncertain' results:\n",
    "pred = calibrated.predict(vectors_test)\n",
    "probas = calibrated.predict_proba(vectors_test)\n",
    "more_certain_mask = np.choose(pred, probas.T) > .8\n",
    "print classification_report(\n",
    "    newsgroups_test.target[more_certain_mask],\n",
    "    pred[more_certain_mask]\n",
    ")"
   ]
  },
  {
   "cell_type": "code",
   "execution_count": 20,
   "metadata": {
    "collapsed": false
   },
   "outputs": [],
   "source": [
    "calibrated = CalibratedClassifierCV(clf, cv='prefit', method='isotonic')\n",
    "calibrated.fit(vectors_train, newsgroups_train.target)\n",
    "pred = calibrated.predict(vectors_test)\n",
    "# le.inverse_transform(newsgroups_test.target)"
   ]
  },
  {
   "cell_type": "code",
   "execution_count": 50,
   "metadata": {
    "collapsed": false
   },
   "outputs": [
    {
     "data": {
      "text/plain": [
       "<matplotlib.axes._subplots.AxesSubplot at 0x10cc42190>"
      ]
     },
     "execution_count": 50,
     "metadata": {},
     "output_type": "execute_result"
    },
    {
     "data": {
      "image/png": "[encoded data removed]",
      "text/plain": [
       "<matplotlib.figure.Figure at 0x10cc35ed0>"
      ]
     },
     "metadata": {},
     "output_type": "display_data"
    }
   ],
   "source": [
    "pd.DataFrame(np.choose(pred, probas.T)).plot(kind='hist')"
   ]
  },
  {
   "cell_type": "code",
   "execution_count": 58,
   "metadata": {
    "collapsed": false
   },
   "outputs": [
    {
     "data": {
      "text/plain": [
       "<matplotlib.axes._subplots.AxesSubplot at 0x10d6bf9d0>"
      ]
     },
     "execution_count": 58,
     "metadata": {},
     "output_type": "execute_result"
    },
    {
     "data": {
      "image/png": "[encoded data removed]",
      "text/plain": [
       "<matplotlib.figure.Figure at 0x10d46ca50>"
      ]
     },
     "metadata": {},
     "output_type": "display_data"
    },
    {
     "data": {
      "image/png": "[encoded data removed]",
      "text/plain": [
       "<matplotlib.figure.Figure at 0x10d3a9cd0>"
      ]
     },
     "metadata": {},
     "output_type": "display_data"
    }
   ],
   "source": [
    "pd.DataFrame(pred[np.choose(pred, probas.T) > .5]).plot(kind='hist', bins=50)\n",
    "pd.DataFrame(pred).plot(kind='hist', bins=50, color='r')"
   ]
  },
  {
   "cell_type": "code",
   "execution_count": 63,
   "metadata": {
    "collapsed": false
   },
   "outputs": [
    {
     "name": "stderr",
     "output_type": "stream",
     "text": [
      "/Users/bhtucker/.virtualenvs/citadel/lib/python2.7/site-packages/ipykernel/__main__.py:1: FutureWarning: in the future, boolean array-likes will be handled as a boolean array index\n",
      "  if __name__ == '__main__':\n"
     ]
    },
    {
     "data": {
      "text/plain": [
       "(1875, 1)"
      ]
     },
     "execution_count": 63,
     "metadata": {},
     "output_type": "execute_result"
    }
   ],
   "source": [
    "newsgroups_test.target[more_certain_mask].shape"
   ]
  },
  {
   "cell_type": "code",
   "execution_count": 73,
   "metadata": {
    "collapsed": false
   },
   "outputs": [
    {
     "data": {
      "text/plain": [
       "(1875, 1)"
      ]
     },
     "execution_count": 73,
     "metadata": {},
     "output_type": "execute_result"
    }
   ],
   "source": [
    "# np.select([more_certain_mask], [newsgroups_test.target]).shape\n",
    "np.select([more_certain_mask], [newsgroups_test.target.reshape((1875, 1))]).shape\n",
    "# ?np.select"
   ]
  },
  {
   "cell_type": "code",
   "execution_count": null,
   "metadata": {
    "collapsed": false
   },
   "outputs": [],
   "source": []
  },
  {
   "cell_type": "code",
   "execution_count": 33,
   "metadata": {
    "collapsed": true
   },
   "outputs": [
    {
     "data": {
      "text/plain": [
       "array([ 0.76486329,  0.23513671,  0.47792063,  0.36109558,  0.56119999,\n",
       "        0.43880001,  0.28816987,  0.61476239,  0.2519685 ,  0.7480315 ,\n",
       "        0.75704802,  0.24295198,  0.43863873,  0.56136127,  0.30468172,\n",
       "        0.64721064,  0.2519685 ,  0.7480315 ,  0.58323544,  0.4091495 ,\n",
       "        0.5       ,  0.5       ,  0.60440905,  0.39559095,  0.74343508,\n",
       "        0.25656492,  0.37583082,  0.62416918,  0.49043049,  0.31067897,\n",
       "        0.73846154,  0.26153846,  0.2519685 ,  0.7480315 ,  0.2519685 ,\n",
       "        0.7480315 ,  0.30835118,  0.69164882,  0.35548898,  0.64451102,\n",
       "        0.57421218,  0.42578782,  0.75813067,  0.24186933,  0.49913738,\n",
       "        0.50086262,  0.34944306,  0.65055694,  0.28816987,  0.61476239,\n",
       "        0.68058109,  0.31941891,  0.6613488 ,  0.2342277 ,  0.36000942,\n",
       "        0.61781894,  0.78271476,  0.21728524,  0.49293057,  0.50706943,\n",
       "        0.30835118,  0.69164882,  0.42678106,  0.57321894,  0.46139353,\n",
       "        0.53860647,  0.72477082,  0.27522918,  0.56962025,  0.43037975,\n",
       "        0.74216437,  0.25783563,  0.2519685 ,  0.7480315 ,  0.5       ,\n",
       "        0.5       ,  0.65899114,  0.34100886,  0.58150167,  0.41849833,\n",
       "        0.759976  ,  0.240024  ,  0.31914894,  0.68085106,  0.5       ,\n",
       "        0.5       ,  0.37215856,  0.56907957,  0.50543038,  0.49456962,\n",
       "        0.36349429,  0.63650571,  0.25714286,  0.54857143,  0.51337064,\n",
       "        0.48662936,  0.48212896,  0.51787104,  0.78784846,  0.21215154,\n",
       "        0.6613488 ,  0.2342277 ,  0.68277391,  0.31722609,  0.49047146,\n",
       "        0.44004737,  0.30835118,  0.69164882,  0.2519685 ,  0.7480315 ,\n",
       "        0.40313157,  0.59686843,  0.23664545,  0.50484362,  0.58050083,\n",
       "        0.41949917,  0.30835118,  0.69164882,  0.39507803,  0.60054012,\n",
       "        0.35150863,  0.64849137,  0.55546617,  0.44453383,  0.69066459,\n",
       "        0.29565335,  0.2519685 ,  0.7480315 ,  0.5       ,  0.5       ,\n",
       "        0.47792063,  0.36109558,  0.4632476 ,  0.5367524 ,  0.3003331 ,\n",
       "        0.6996669 ,  0.76955987,  0.23044013,  0.77734627,  0.22265373,\n",
       "        0.64275167,  0.35225078,  0.20549325,  0.78983579,  0.74142276,\n",
       "        0.2519685 ,  0.7480315 ,  0.6086027 ,  0.3913973 ,  0.51478733,\n",
       "        0.48521267,  0.30835118,  0.69164882,  0.55831349,  0.44168651,\n",
       "        0.32560226,  0.67439774,  0.64993599,  0.24212136,  0.30835118,\n",
       "        0.69164882,  0.50170331,  0.49829669,  0.5       ,  0.5       ,\n",
       "        0.54712761,  0.45287239,  0.28816987,  0.61476239,  0.30835118,\n",
       "        0.69164882,  0.6613488 ,  0.2342277 ,  0.47792063,  0.36109558,\n",
       "        0.6613488 ,  0.2342277 ,  0.77428956,  0.74081474,  0.25918526,\n",
       "        0.23664545,  0.50484362,  0.33333333,  0.66666667,  0.21912564,\n",
       "        0.78087436,  0.30835118,  0.69164882,  0.57435719,  0.42564281,\n",
       "        0.73585689,  0.26414311,  0.6613488 ,  0.2342277 ,  0.27736701,\n",
       "        0.72263299,  0.72020752,  0.27979248,  0.76324252,  0.23675748,\n",
       "        0.6613488 ,  0.2342277 ,  0.5       ,  0.5       ,  0.6455777 ,\n",
       "        0.3544223 ,  0.28403342,  0.71596658,  0.46442925,  0.53557075,\n",
       "        0.237624  ,  0.73439268,  0.28816987,  0.61476239,  0.65036348,\n",
       "        0.34963652,  0.47792063,  0.36109558,  0.76828602,  0.23171398,\n",
       "        0.30835118,  0.69164882,  0.31914894,  0.68085106,  0.2519685 ,\n",
       "        0.7480315 ,  0.73846154,  0.26153846,  0.54050949,  0.45949051,\n",
       "        0.56962025,  0.43037975,  0.79369136,  0.20264625,  0.56962025,\n",
       "        0.43037975,  0.71681967,  0.28318033,  0.34993476,  0.65006524,\n",
       "        0.2519685 ,  0.7480315 ,  0.56962025,  0.43037975,  0.30835118,\n",
       "        0.69164882,  0.6613488 ,  0.2342277 ,  0.66156906,  0.33843094,\n",
       "        0.47792063,  0.36109558,  0.30835118,  0.69164882,  0.30835118,\n",
       "        0.69164882,  0.73712613,  0.26287387,  0.42325946,  0.56112231,\n",
       "        0.77481739,  0.22518261,  0.30319441,  0.69680559,  0.59522463,\n",
       "        0.40477537,  0.62224911,  0.37775089,  0.62223562,  0.26128029,\n",
       "        0.30835118,  0.69164882,  0.30835118,  0.69164882,  0.57367443,\n",
       "        0.42632557,  0.71340021,  0.28659979,  0.70491052,  0.29508948,\n",
       "        0.69712079,  0.30287921,  0.47792063,  0.36109558,  0.40141807,\n",
       "        0.59858193,  0.52290733,  0.46954862,  0.24633977,  0.75366023,\n",
       "        0.56962025,  0.43037975,  0.73136036,  0.31914894,  0.68085106,\n",
       "        0.47792063,  0.36109558,  0.74261275,  0.25738725,  0.55267234,\n",
       "        0.44732766,  0.61280732,  0.38719268,  0.47792063,  0.36109558,\n",
       "        0.63971801,  0.35111116,  0.2519685 ,  0.7480315 ,  0.74497034,\n",
       "        0.24752593,  0.2519685 ,  0.7480315 ,  0.30835118,  0.69164882,\n",
       "        0.38496398,  0.43464858,  0.47792063,  0.36109558,  0.74062129,\n",
       "        0.25937871,  0.28816987,  0.61476239,  0.2519685 ,  0.7480315 ,\n",
       "        0.71433675,  0.27942543,  0.31914894,  0.68085106,  0.5       ,\n",
       "        0.5       ,  0.65643493,  0.34356507,  0.45450487,  0.50140448,\n",
       "        0.26757223,  0.72179983,  0.47077432,  0.52922568,  0.74780972,\n",
       "        0.25219028,  0.41160711,  0.58839289,  0.2519685 ,  0.7480315 ,\n",
       "        0.23664545,  0.50484362,  0.59181096,  0.40818904,  0.6613488 ,\n",
       "        0.2342277 ,  0.55366805,  0.44633195,  0.71852805,  0.28147195,\n",
       "        0.51337064,  0.48662936,  0.41360735,  0.58639265,  0.27146589,\n",
       "        0.72853411,  0.52304116,  0.47695884,  0.20147434,  0.79852566,\n",
       "        0.6613488 ,  0.2342277 ,  0.2519685 ,  0.7480315 ,  0.55529677,\n",
       "        0.44470323,  0.31914894,  0.68085106,  0.28816987,  0.61476239,\n",
       "        0.41051814,  0.58548518,  0.30835118,  0.69164882,  0.2519685 ,\n",
       "        0.7480315 ,  0.30835118,  0.69164882,  0.30835118,  0.69164882,\n",
       "        0.34775782,  0.63419133,  0.71066415,  0.28933585,  0.25714286,\n",
       "        0.54857143,  0.47792063,  0.36109558,  0.68365826,  0.30813045,\n",
       "        0.5646374 ,  0.42545018,  0.30835118,  0.69164882,  0.56920187,\n",
       "        0.41725907,  0.46724054,  0.53275946,  0.30835118,  0.69164882,\n",
       "        0.6613488 ,  0.2342277 ,  0.30835118,  0.69164882,  0.48113851,\n",
       "        0.51687097,  0.2519685 ,  0.7480315 ,  0.71283534,  0.26248559,\n",
       "        0.30835118,  0.69164882,  0.73798372,  0.22688051,  0.71644771,\n",
       "        0.28355229,  0.30835118,  0.69164882,  0.77886969,  0.22113031,\n",
       "        0.28816987,  0.61476239,  0.30835118,  0.69164882,  0.7513169 ,\n",
       "        0.25714286,  0.54857143,  0.75566754,  0.24433246,  0.47598213,\n",
       "        0.52401787,  0.47792063,  0.36109558,  0.30835118,  0.69164882,\n",
       "        0.2519685 ,  0.7480315 ,  0.25714286,  0.54857143,  0.64763979,\n",
       "        0.35236021,  0.2519685 ,  0.7480315 ,  0.71019612,  0.28980388])"
      ]
     },
     "execution_count": 33,
     "metadata": {},
     "output_type": "execute_result"
    }
   ],
   "source": [
    "probaas[((probaas > .2) & (probaas < .8))]"
   ]
  },
  {
   "cell_type": "code",
   "execution_count": 24,
   "metadata": {
    "collapsed": false
   },
   "outputs": [
    {
     "data": {
      "text/plain": [
       "<matplotlib.axes._subplots.AxesSubplot at 0x10c95e7d0>"
      ]
     },
     "execution_count": 24,
     "metadata": {},
     "output_type": "execute_result"
    },
    {
     "data": {
      "image/png": "[encoded data removed]",
      "text/plain": [
       "<matplotlib.figure.Figure at 0x10c95e410>"
      ]
     },
     "metadata": {},
     "output_type": "display_data"
    }
   ],
   "source": [
    "%matplotlib inline\n",
    "import pandas as pd\n",
    "pd.DataFrame(probaas).plot(kind='hist')"
   ]
  },
  {
   "cell_type": "code",
   "execution_count": null,
   "metadata": {
    "collapsed": true
   },
   "outputs": [],
   "source": []
  },
  {
   "cell_type": "markdown",
   "metadata": {},
   "source": [
    "# Using Doc2Vec"
   ]
  },
  {
   "cell_type": "code",
   "execution_count": null,
   "metadata": {
    "collapsed": false
   },
   "outputs": [],
   "source": [
    "#Preprocessing for Doc2Vec \n",
    "\n",
    "newsgroups_train_tokens = map(partial(preprocessor, stop=True), newsgroups_train.data)\n",
    "newsgroups_test_tokens = map(partial(preprocessor, stop=True), newsgroups_test.data)"
   ]
  },
  {
   "cell_type": "code",
   "execution_count": null,
   "metadata": {
    "collapsed": true
   },
   "outputs": [],
   "source": [
    "from gensim.models import Doc2Vec\n",
    "import gensim.models.doc2vec\n",
    "\n",
    "from collections import OrderedDict\n",
    "import multiprocessing\n",
    "from gensim.models.doc2vec import TaggedDocument\n",
    "import sys\n",
    "\n",
    "cores = multiprocessing.cpu_count()\n",
    "assert gensim.models.doc2vec.FAST_VERSION > -1, \"this will be painfully slow otherwise\"\n"
   ]
  },
  {
   "cell_type": "code",
   "execution_count": null,
   "metadata": {
    "collapsed": true
   },
   "outputs": [],
   "source": [
    "from collections import namedtuple\n",
    "import nltk\n",
    "from gensim.models.doc2vec import LabeledSentence\n"
   ]
  },
  {
   "cell_type": "code",
   "execution_count": null,
   "metadata": {
    "collapsed": true
   },
   "outputs": [],
   "source": [
    "?LabeledSentence"
   ]
  },
  {
   "cell_type": "code",
   "execution_count": null,
   "metadata": {
    "collapsed": false
   },
   "outputs": [],
   "source": [
    "from collections import namedtuple\n",
    "import nltk\n",
    "from gensim.models.doc2vec import LabeledSentence\n",
    "\n",
    "\n",
    "def convert_newsgroup(docs, split):\n",
    "    \"\"\"\n",
    "    Generate doc2vec.LabeledSentence instances from dataset :docs\n",
    "    with train/test indicator :split\n",
    "    \"\"\"\n",
    "    for i,v in enumerate(docs):\n",
    "        label = '%s_%s' % (split, i)\n",
    "        yield LabeledSentence(v, [label])\n",
    "\n",
    "test_docs = list(convert_newsgroup(newsgroups_test_tokens, 'test'))\n",
    "train_docs = list(convert_newsgroup(newsgroups_train_tokens, 'train'))\n",
    "\n",
    "all_newsgroup_documents = [train_docs, test_docs]\n",
    "\n",
    "doc_list = all_newsgroup_documents[:]  # for reshuffling per pass\n",
    "\n",
    "print('%d doc sets: %d train, %d test' % (len(doc_list), len(train_docs), len(test_docs)))\n"
   ]
  },
  {
   "cell_type": "markdown",
   "metadata": {},
   "source": [
    "### Set Up Doc2Vec"
   ]
  },
  {
   "cell_type": "code",
   "execution_count": null,
   "metadata": {
    "collapsed": false
   },
   "outputs": [],
   "source": [
    "#Doc2Vec(dm=0, dm_concat=1, size=300, window=5, negative=5, hs=0, min_count=3, workers=cores)\n",
    "#Doc2Vec(dm=0, dm_mean=1, size=300, window=5, negative=5, hs=0, min_count=3, workers=cores),\n",
    "\n",
    "dbow_model = Doc2Vec(dm=0, dm_concat=0, sample=1e-5, size=288, window=5, negative=5, hs=0, min_count=2, workers=cores)\n",
    "# dm_model =  Doc2Vec(dm=1, dm_mean=1, sample=1e-5, size=300, window=10, negative=5, hs=0, min_count=2, workers=cores)\n",
    "\n",
    "# TODO speed setup by sharing results of 1st model's vocabulary scan\n",
    "# dbow_model.load_word2vec_format('/home/skillachie/Downloads/GoogleNews-vectors-negative300.bin.gz', binary=True)\n",
    "dbow_model.build_vocab(train_docs)  # PV-DM/concat requires one special NULL word so it serves as template\n",
    "\n",
    "# dm_model.load_word2vec_format('/home/skillachie/Downloads/GoogleNews-vectors-negative300.bin.gz', binary=True)\n",
    "# dm_model.build_vocab(all_newsgroup_documents)  # PV-DM/concat requires one special NULL word so it serves as template\n",
    "\n",
    "\n",
    "\n",
    "# Models to evaluate\n",
    "#simple_models = [\n",
    " \n",
    "    # PV-DBOW  0.86 with Stem & hs=0\n",
    "    #Doc2Vec(dm=0, dm_concat=1,sample=1e-5, size=300, window=5, negative=5, hs=0, min_count=2, workers=cores),\n",
    "    \n",
    "    #\n",
    "    #Doc2Vec(dm=0, dm_mean=1, sample=1e-5,size=300, window=5, negative=5, hs=0, min_count=2, workers=cores),\n",
    "    \n",
    "    \n",
    "    #Doc2Vec(dm=0, size=300, negative=5, hs=0, min_count=1, workers=cores),\n",
    "    \n",
    "    # PV-DM w/average No good 0.84\n",
    "    #Doc2Vec(dm=1, dm_mean=1, sample=1e-5, size=300, window=10, negative=5, hs=0, min_count=2, workers=cores),\n",
    "    \n",
    "    # PV-DM w/sum\n",
    "    #Doc2Vec(dm=1, dm_mean=0, size=100, window=10, negative=5, hs=0, min_count=2, workers=cores),\n",
    "#]\n",
    "\n",
    "# speed setup by sharing results of 1st model's vocabulary scan\n",
    "#simple_models[0].load_word2vec_format('/home/skillachie/Downloads/GoogleNews-vectors-negative300.bin.gz', binary=True)\n",
    "#simple_models[0].build_vocab(all_newsgroup_documents)  # PV-DM/concat requires one special NULL word so it serves as template\n",
    "\n",
    "\n",
    "#print(simple_models[0])\n",
    "\n",
    "#for model in simple_models[1:]:\n",
    "    #model.reset_from(simple_models[0])\n",
    "#    model.load_word2vec_forma('/home/skillachie/nlpArea51/doc2vec/GoogleNews-vectors-negative300.bin', binary=True)\n",
    "#    model.build_vocab(all_newsgroup_documents)\n",
    "#    print(model)\n",
    "\n",
    "#models_by_name = OrderedDict((str(model), model) for model in simple_models)"
   ]
  },
  {
   "cell_type": "code",
   "execution_count": null,
   "metadata": {
    "collapsed": true
   },
   "outputs": [],
   "source": [
    "def d2v(train_docs):\n",
    "    model = Doc2Vec(dm=1, dm_concat=0, sample=1e-5, size=288, window=5, negative=5, hs=1, min_count=2, workers=cores)\n",
    "# dm_model =  Doc2Vec(dm=1, dm_mean=1, sample=1e-5, size=300, window=10, negative=5, hs=0, min_count=2, workers=cores)\n",
    "\n",
    "# TODO speed setup by sharing results of 1st model's vocabulary scan\n",
    "# dbow_model.load_word2vec_format('/home/skillachie/Downloads/GoogleNews-vectors-negative300.bin.gz', binary=True)\n",
    "    model.build_vocab(train_docs)  # PV-DM/concat requires one special NULL word so it serves as template\n",
    "    return model\n",
    "dm = d2v(train_docs)"
   ]
  },
  {
   "cell_type": "code",
   "execution_count": null,
   "metadata": {
    "collapsed": false
   },
   "outputs": [],
   "source": [
    "vecs = extract_vectors(dm, train_docs)"
   ]
  },
  {
   "cell_type": "code",
   "execution_count": null,
   "metadata": {
    "collapsed": false
   },
   "outputs": [],
   "source": [
    "dm.vocab['fish']"
   ]
  },
  {
   "cell_type": "code",
   "execution_count": null,
   "metadata": {
    "collapsed": true
   },
   "outputs": [],
   "source": [
    "dm.n_similarity"
   ]
  },
  {
   "cell_type": "code",
   "execution_count": null,
   "metadata": {
    "collapsed": true
   },
   "outputs": [],
   "source": []
  },
  {
   "cell_type": "code",
   "execution_count": null,
   "metadata": {
    "collapsed": true
   },
   "outputs": [],
   "source": []
  },
  {
   "cell_type": "code",
   "execution_count": null,
   "metadata": {
    "collapsed": true
   },
   "outputs": [],
   "source": [
    "tokens"
   ]
  },
  {
   "cell_type": "code",
   "execution_count": null,
   "metadata": {
    "collapsed": false
   },
   "outputs": [],
   "source": [
    "# vecs[0]\n",
    "# dm.vocab\n",
    "doc_label = train_docs[0].tags[0]\n",
    "# doc_vector = model.docvecs[doc_label]\n",
    "# vectors_list.append(doc_vector)"
   ]
  },
  {
   "cell_type": "code",
   "execution_count": null,
   "metadata": {
    "collapsed": false
   },
   "outputs": [],
   "source": [
    "le.(labels_train[0])"
   ]
  },
  {
   "cell_type": "code",
   "execution_count": null,
   "metadata": {
    "collapsed": false
   },
   "outputs": [],
   "source": [
    "from gensim.test.test_doc2vec import ConcatenatedDoc2Vec\n",
    "dbow_dmm_model = ConcatenatedDoc2Vec([dbow_model, dm_model])\n",
    "#models_by_name['dbow+dmc'] = ConcatenatedDoc2Vec([simple_models[1], simple_models[0]])"
   ]
  },
  {
   "cell_type": "markdown",
   "metadata": {},
   "source": [
    "### Prediction and Evaluation"
   ]
  },
  {
   "cell_type": "markdown",
   "metadata": {},
   "source": [
    "### Training"
   ]
  },
  {
   "cell_type": "markdown",
   "metadata": {},
   "source": [
    "Why is bulk training done with all the  docs from train, test,  and dev ? Compared to other methods training is only done on the training dataset "
   ]
  },
  {
   "cell_type": "code",
   "execution_count": null,
   "metadata": {
    "collapsed": true
   },
   "outputs": [],
   "source": [
    "from collections import defaultdict\n",
    "best_error = defaultdict(lambda: 1.)  # to selectively-print only best errors achieved"
   ]
  },
  {
   "cell_type": "code",
   "execution_count": null,
   "metadata": {
    "collapsed": false
   },
   "outputs": [],
   "source": [
    "\n",
    "def extract_vectors(model, docs):\n",
    "    \"\"\"\n",
    "    Get Vectors From Word2Vec\n",
    "    \"\"\"\n",
    "    vectors_list = []\n",
    "    \n",
    "    for doc_no in range(len(docs)):\n",
    "        doc_label = docs[doc_no].tags[0]\n",
    "        doc_vector = model.docvecs[doc_label]\n",
    "        vectors_list.append(doc_vector)\n",
    "        \n",
    "    return vectors_list\n",
    "\n",
    "# TODO inferred vectors\n",
    "\n",
    "def get_infer_vectors(model, docs):\n",
    "    \n",
    "    vecs = []\n",
    "    for doc in docs:\n",
    "        vecs.append(model.infer_vector(doc.words))\n",
    "    return vecs\n",
    "    \n",
    "    "
   ]
  },
  {
   "cell_type": "code",
   "execution_count": null,
   "metadata": {
    "collapsed": false
   },
   "outputs": [],
   "source": [
    "# dbow_model.alpha, dbow_model.min_alpha = 0.025, 0.025\n",
    "# dbow_model.train(train_docs)\n",
    "?dbow_model.train"
   ]
  },
  {
   "cell_type": "code",
   "execution_count": null,
   "metadata": {
    "collapsed": false
   },
   "outputs": [],
   "source": [
    "from random import shuffle\n",
    "\n",
    "train_docs_ = list(train_docs)\n",
    "for gen in range(1):\n",
    "    alpha, min_alpha, passes = (0.025, 0.001, 20)\n",
    "    alpha_delta = (alpha - min_alpha) / passes\n",
    "    for epoch in range(passes):\n",
    "        shuffle(train_docs_)\n",
    "\n",
    "        #for name, train_model in models_by_name.items():\n",
    "\n",
    "        #Train\n",
    "        print alpha\n",
    "        dm.alpha, dm.min_alpha = alpha, alpha\n",
    "        print(dm.train(train_docs_))\n",
    "\n",
    "    #     dm_model.alpha, dm_model.min_alpha = alpha, alpha\n",
    "    #     dm_model.train(doc_list)\n",
    "\n",
    "\n",
    "    #     dbow_dmm_model.alpha, dbow_dmm_model.min_alpha = alpha, alpha\n",
    "    #     dbow_dmm_model.train(doc_list)\n",
    "\n",
    "\n",
    "        alpha -= alpha_delta\n"
   ]
  },
  {
   "cell_type": "code",
   "execution_count": null,
   "metadata": {
    "collapsed": true
   },
   "outputs": [],
   "source": [
    "\n",
    "import numpy as np\n",
    "import statsmodels.api as sm\n",
    "from random import sample\n",
    "def logistic_predictor_from_data(train_targets, train_regressors):\n",
    "#     import ipdb; ipdb.set_trace()\n",
    "    logit = sm.Logit(train_targets, train_regressors)\n",
    "    predictor = logit.fit(disp=0)\n",
    "    #print(predictor.summary())\n",
    "    return predictor\n",
    "\n",
    "def error_rate_for_model(test_model, train_set, test_set, infer=False, infer_steps=3, infer_alpha=0.1, infer_subsample=0.1):\n",
    "    \"\"\"Report error rate on test_doc sentiments, using supplied model and train_docs\"\"\"\n",
    "\n",
    "    train_targets, train_regressors = [float(v == 4) for v in labels_train], list(test_model.docvecs)\n",
    "    train_regressors = sm.add_constant(train_regressors)\n",
    "    predictor = logistic_predictor_from_data(train_targets, train_regressors)\n",
    "\n",
    "    test_data = test_set\n",
    "    if infer:\n",
    "        if infer_subsample < 1.0:\n",
    "            test_data = sample(test_data, int(infer_subsample * len(test_data)))\n",
    "        test_regressors = [test_model.infer_vector(doc.words, steps=infer_steps, alpha=infer_alpha) for doc in test_data]\n",
    "    else:\n",
    "        test_regressors = [test_model.docvecs[doc.tags[0]] for doc in test_docs]\n",
    "    test_regressors = sm.add_constant(test_regressors)\n",
    "    \n",
    "    # predict & evaluate\n",
    "    test_predictions = predictor.predict(test_regressors)\n",
    "    corrects = sum(np.rint(test_predictions) == [doc.sentiment for doc in test_data])\n",
    "    errors = len(test_predictions) - corrects\n",
    "    error_rate = float(errors) / len(test_predictions)\n",
    "    return (error_rate, errors, len(test_predictions), predictor)\n",
    "\n",
    "error_rate_for_model(dm, train_docs, test_docs)"
   ]
  },
  {
   "cell_type": "code",
   "execution_count": null,
   "metadata": {
    "collapsed": true
   },
   "outputs": [],
   "source": [
    "sm.Logit([float(v == 2) for v in labels_train], list(dm.docvecs)).fit()\n",
    "# type(dm.docvecs[0])"
   ]
  },
  {
   "cell_type": "code",
   "execution_count": null,
   "metadata": {
    "collapsed": false
   },
   "outputs": [],
   "source": [
    "len(set(labels_train))"
   ]
  },
  {
   "cell_type": "code",
   "execution_count": null,
   "metadata": {
    "collapsed": false
   },
   "outputs": [],
   "source": [
    "# error_rate_for_model(dm, train_docs, test_docs)\n",
    "train_docs[0]"
   ]
  },
  {
   "cell_type": "code",
   "execution_count": null,
   "metadata": {
    "collapsed": false
   },
   "outputs": [],
   "source": [
    "# tokens = (\n",
    "#     'god belief graphic reason '\n",
    "#     'pitch hitter clutch heretic '\n",
    "#     'congress hardware vote conservative '\n",
    "#     'shuttle launch fishing solar '\n",
    "# ).split()\n",
    "# for i in range(len(tokens)):\n",
    "#     tup = (tokens[i], tokens[i+1])\n",
    "#     print(tup)\n",
    "#     print(dm.n_similarity(*tup), untrained_model.n_similarity(*tup))\n"
   ]
  },
  {
   "cell_type": "code",
   "execution_count": null,
   "metadata": {
    "collapsed": false
   },
   "outputs": [],
   "source": [
    "import random\n",
    "from IPython.display import HTML\n",
    "# pick a random word with a suitable number of occurences\n",
    "# while True:\n",
    "#     word = random.choice(dm.index2word)\n",
    "#     if dm.vocab[word].count > 10:\n",
    "#         break\n",
    "\n",
    "# # or uncomment below line, to just pick a word from the relevant domain:\n",
    "\n",
    "model = untrained_model\n",
    "word = 'terrorists'\n",
    "similars_per_model = [str(model.most_similar(word, topn=20)).replace('), ','),<br>\\n')]\n",
    "similar_table = (\"<table><tr><th>\" +\n",
    "    \"</th><th>\".join([str(model), word]) + \n",
    "    \"</th></tr><tr><td>\" +\n",
    "    \"</td><td>\".join(similars_per_model) +\n",
    "    \"</td></tr></table>\")\n",
    "print(\"most similar words for '%s' (%d occurences)\" % (word, model.vocab[word].count))\n",
    "HTML(similar_table)"
   ]
  },
  {
   "cell_type": "code",
   "execution_count": null,
   "metadata": {
    "collapsed": false
   },
   "outputs": [],
   "source": [
    "similars_per_model"
   ]
  },
  {
   "cell_type": "code",
   "execution_count": null,
   "metadata": {
    "collapsed": false
   },
   "outputs": [],
   "source": [
    "%matplotlib inline\n",
    "import seaborn as sns\n",
    "\n",
    "from sklearn.metrics import pairwise_distances \n",
    "mat = np.array([\n",
    "    [\n",
    "    dm.similarity(a, b)\n",
    "    for a in selection\n",
    "]\n",
    "    for b in selection\n",
    "    ])\n",
    "# distmat = pairwise_distances(np.array(dm.vocab.keys()), np.array(dm.vocab.keys()), metric=dm.similarity)\n",
    "\n",
    "\n"
   ]
  },
  {
   "cell_type": "code",
   "execution_count": null,
   "metadata": {
    "collapsed": true
   },
   "outputs": [],
   "source": [
    "selection  = dm.vocab.keys()[:100]"
   ]
  },
  {
   "cell_type": "code",
   "execution_count": null,
   "metadata": {
    "collapsed": true
   },
   "outputs": [],
   "source": [
    "list(selection)"
   ]
  },
  {
   "cell_type": "code",
   "execution_count": null,
   "metadata": {
    "collapsed": false
   },
   "outputs": [],
   "source": [
    "print([\n",
    "        w\n",
    "#         int(w.index)\n",
    "        for (k, w) in dm.vocab.iteritems()\n",
    "       if k in {'heaven', 'hell', 'gospel', 'sharks', 'arizona', 'indiana'}      \n",
    "#         and\n",
    "#         if ix < 100][0])\n",
    "        ])"
   ]
  },
  {
   "cell_type": "code",
   "execution_count": null,
   "metadata": {
    "collapsed": false
   },
   "outputs": [],
   "source": [
    "focus = [\n",
    " u'woods',\n",
    " u'katyusha',\n",
    " u'verses',\n",
    " u'hanging',\n",
    " u'cyprus',\n",
    " 'outfielders',\n",
    " 'specialist'\n",
    "        ]\n",
    "ixs = [selection.index(w)\n",
    "       for w in focus]\n",
    "sns.heatmap(mat[:, ixs][ixs, :], xticklabels=focus, yticklabels=focus)\n"
   ]
  },
  {
   "cell_type": "code",
   "execution_count": null,
   "metadata": {
    "collapsed": false
   },
   "outputs": [],
   "source": [
    "focus = [\n",
    " u'woods',\n",
    " u'katyusha',\n",
    " u'verses',\n",
    " u'hanging',\n",
    " u'cyprus',\n",
    " 'outfielders',\n",
    " 'specialist'\n",
    "        ]\n",
    "ixs = [selection.index(w)\n",
    "       for w in focus]\n",
    "sns.heatmap(mat[:, ixs][ixs, :], xticklabels=focus, yticklabels=focus)\n"
   ]
  },
  {
   "cell_type": "code",
   "execution_count": null,
   "metadata": {
    "collapsed": true
   },
   "outputs": [],
   "source": [
    "focus = [\n",
    " u'woods',\n",
    " u'katyusha',\n",
    " u'verses',\n",
    " u'hanging',\n",
    " u'cyprus',\n",
    " 'outfielders',\n",
    " 'specialist'\n",
    "        ]\n",
    "ixs = [selection.index(w)\n",
    "       for w in focus]\n",
    "sns.heatmap(mat[:, ixs][ixs, :], xticklabels=focus, yticklabels=focus)\n"
   ]
  },
  {
   "cell_type": "code",
   "execution_count": null,
   "metadata": {
    "collapsed": false
   },
   "outputs": [],
   "source": [
    "focus = [\n",
    "'jihad',\n",
    " u'shouting',        \n",
    " u'aggression',\n",
    " u'marching'\n",
    "        ]\n",
    "ixs = [selection.index(w)\n",
    "       for w in focus]\n",
    "sns.heatmap(mat[:, ixs][ixs, :], xticklabels=focus, yticklabels=focus)\n"
   ]
  },
  {
   "cell_type": "code",
   "execution_count": null,
   "metadata": {
    "collapsed": false
   },
   "outputs": [],
   "source": [
    "focus = [\n",
    "'jihad',\n",
    " u'shouting',        \n",
    " u'aggression',\n",
    " u'marching'\n",
    "        ]\n",
    "ixs = [selection.index(w)\n",
    "       for w in focus]\n",
    "sns.heatmap(mat[:, ixs][ixs, :], xticklabels=focus, yticklabels=focus)\n"
   ]
  },
  {
   "cell_type": "code",
   "execution_count": null,
   "metadata": {
    "collapsed": false
   },
   "outputs": [],
   "source": [
    "\"\"\"\n",
    "god belief graphic reason\n",
    "graphic\n",
    "graphic\n",
    "pitch hitter clutch heretic\n",
    "clutch\n",
    "clutch\n",
    "congress hardware vote conservative\n",
    "congress\n",
    "congress\n",
    "shuttle launch fishing solar\n",
    "fishing\n",
    "fishing\n",
    "\"\"\"\n",
    "\n",
    "# categories = ['alt.atheism','rec.sport.baseball','talk.politics.mideast','comp.graphics', 'sci.space']\n",
    "untrained_model = Doc2Vec(dm=0, dm_concat=0, sample=1e-5, size=48, window=5, negative=5, hs=0, min_count=2, workers=cores)\n",
    "untrained_model.build_vocab(train_docs)\n",
    "for sample in [\n",
    "    'god belief graphic reason',\n",
    "    'pitch hitter clutch heretic',\n",
    "    'congress hardware vote conservative',\n",
    "    'shuttle launch fishing solar'\n",
    "]:\n",
    "    print(sample)\n",
    "    print(untrained_model.doesnt_match(sample.split()))\n",
    "    print(dm.doesnt_match(sample.split()))    \n",
    "# dbow_model.doesnt_match('god belief graphic reason'.split())\n",
    "# newsgroups_train.filenames\n",
    "\n"
   ]
  },
  {
   "cell_type": "code",
   "execution_count": null,
   "metadata": {
    "collapsed": true
   },
   "outputs": [],
   "source": []
  },
  {
   "cell_type": "code",
   "execution_count": null,
   "metadata": {
    "collapsed": false
   },
   "outputs": [],
   "source": [
    "#Evaluation\n",
    "train_vectors = extract_vectors(dm, train_docs)\n",
    "test_vectors = get_infer_vectors(dm, test_docs)\n",
    "\n",
    "\n",
    "#model = LinearSVC()\n",
    "#penalties = np.array([0.001,0.002,0.003,0.004,0.005,0.007,0.008,0.009,0.01,0.05,0.04,0.03,0.02])\n",
    "#grid = GridSearchCV(estimator=model ,n_jobs=7,param_grid=dict(C=penalties))\n",
    "#grid.fit(train_vectors, newsgroups_train.target)\n",
    "        \n",
    "# summarize the results of the grid search\n",
    "#print(grid.best_score_)\n",
    "#print(grid.best_estimator_.C)\n",
    "\n",
    "#clf = LinearSVC(C=0.009)\n",
    "clf = LinearSVC(C=0.0025)\n",
    "clf.fit(train_vectors, newsgroups_train.target)\n",
    "\n",
    "predDoc = clf.predict(test_vectors)\n",
    "        \n",
    "print classification_report(le.inverse_transform(newsgroups_test.target), le.inverse_transform(predDoc))\n",
    "\n",
    "# avg / total       0.77      0.76      0.76      1875\n",
    "# avg / total       0.78      0.76      0.76      1875"
   ]
  },
  {
   "cell_type": "code",
   "execution_count": null,
   "metadata": {
    "collapsed": false
   },
   "outputs": [],
   "source": [
    "print classification_report(le.inverse_transform(newsgroups_train.target), le.inverse_transform(clf.predict(train_vectors)))"
   ]
  },
  {
   "cell_type": "code",
   "execution_count": null,
   "metadata": {
    "collapsed": true
   },
   "outputs": [],
   "source": []
  },
  {
   "cell_type": "code",
   "execution_count": null,
   "metadata": {
    "collapsed": true
   },
   "outputs": [],
   "source": []
  }
 ],
 "metadata": {
  "kernelspec": {
   "display_name": "Python 2",
   "language": "python",
   "name": "python2"
  },
  "language_info": {
   "codemirror_mode": {
    "name": "ipython",
    "version": 2
   },
   "file_extension": ".py",
   "mimetype": "text/x-python",
   "name": "python",
   "nbconvert_exporter": "python",
   "pygments_lexer": "ipython2",
   "version": "2.7.10"
  }
 },
 "nbformat": 4,
 "nbformat_minor": 0
}
