{
 "cells": [
  {
   "cell_type": "code",
   "execution_count": 1,
   "metadata": {
    "collapsed": false
   },
   "outputs": [],
   "source": [
    "from sklearn.svm import LinearSVC\n",
    "from gensim.models import Word2Vec\n",
    "from sklearn import metrics\n",
    "from sklearn.naive_bayes import MultinomialNB\n",
    "from sklearn import svm\n",
    "from sklearn.preprocessing import LabelEncoder\n",
    "from sklearn.feature_extraction.text import TfidfVectorizer\n",
    "#from abstract import *\n",
    "from sklearn.datasets import fetch_20newsgroups\n",
    "from nltk.corpus import stopwords\n",
    "import numpy as np\n",
    "from sklearn.cross_validation import cross_val_score, KFold\n",
    "from sklearn.metrics import classification_report\n",
    "\n",
    "\n"
   ]
  },
  {
   "cell_type": "code",
   "execution_count": 2,
   "metadata": {
    "collapsed": false
   },
   "outputs": [],
   "source": [
    "categories = ['alt.atheism', 'talk.religion.misc','comp.graphics', 'sci.space']\n",
    "newsgroups_train = fetch_20newsgroups(subset='train',categories=categories, remove=('headers', 'footers', 'quotes'))\n",
    "newsgroups_test = fetch_20newsgroups(subset='test',categories=categories, remove=('headers', 'footers', 'quotes'))"
   ]
  },
  {
   "cell_type": "code",
   "execution_count": 3,
   "metadata": {
    "collapsed": false,
    "scrolled": false
   },
   "outputs": [],
   "source": [
    "from pprint import pprint\n",
    "#pprint(newsgroups_train)"
   ]
  },
  {
   "cell_type": "markdown",
   "metadata": {},
   "source": [
    "\n",
    "# Using TF-IDF "
   ]
  },
  {
   "cell_type": "code",
   "execution_count": 4,
   "metadata": {
    "collapsed": false
   },
   "outputs": [
    {
     "name": "stdout",
     "output_type": "stream",
     "text": [
      "             precision    recall  f1-score   support\n",
      "\n",
      "          0       0.68      0.68      0.68       319\n",
      "          1       0.92      0.89      0.91       389\n",
      "          2       0.81      0.90      0.85       394\n",
      "          3       0.68      0.60      0.64       251\n",
      "\n",
      "avg / total       0.79      0.79      0.79      1353\n",
      "\n"
     ]
    }
   ],
   "source": [
    "vectorizer = TfidfVectorizer()\n",
    "le = LabelEncoder()\n",
    "\n",
    "# Training \n",
    "vectors_train = vectorizer.fit_transform(newsgroups_train.data)\n",
    "labels_train = le.fit_transform(newsgroups_train.target)\n",
    "\n",
    "# Just for debug quickly reassign labels\n",
    "X = vectors_train\n",
    "y = labels_train\n",
    "\n",
    "\n",
    "clf = MultinomialNB(alpha=.01)\n",
    "#clf = svm.SVC(kernel='linear', C = 1.0)\n",
    "\n",
    "# Evaluate using cross validation\n",
    "cross_val = KFold(len(newsgroups_train.target),n_folds=5,shuffle=True)\n",
    "\n",
    "#for train_index, test_index in cross_val:\n",
    "#    X_train,X_test = X[train_index],X[test_index]\n",
    "#    y_train,y_test = y[train_index],y[test_index]\n",
    "#    clf.fit(X_train,y_train)\n",
    "#    y_pred = clf.predict(X_test)\n",
    "#    print classification_report(le.inverse_transform(y_test),le.inverse_transform(y_pred))\n",
    "#    print metrics.confusion_matrix(y_pred,y_test)\n",
    "\n",
    "clf.fit(vectors_train, newsgroups_train.target)\n",
    "vectors_test = vectorizer.transform(newsgroups_test.data)\n",
    "pred = clf.predict(vectors_test)\n",
    "\n",
    "#print metrics.f1_score(newsgroups_test.target, pred)\n",
    "print classification_report(le.inverse_transform(newsgroups_test.target),le.inverse_transform(pred))\n"
   ]
  },
  {
   "cell_type": "markdown",
   "metadata": {},
   "source": [
    "# Using Doc2Vec"
   ]
  },
  {
   "cell_type": "code",
   "execution_count": 5,
   "metadata": {
    "collapsed": true
   },
   "outputs": [],
   "source": [
    "from gensim.models import Doc2Vec\n",
    "import gensim.models.doc2vec\n",
    "\n",
    "from collections import OrderedDict\n",
    "import multiprocessing\n",
    "from gensim.models.doc2vec import TaggedDocument\n",
    "import sys\n",
    "\n",
    "cores = multiprocessing.cpu_count()\n",
    "assert gensim.models.doc2vec.FAST_VERSION > -1, \"this will be painfully slow otherwise\"\n"
   ]
  },
  {
   "cell_type": "code",
   "execution_count": 6,
   "metadata": {
    "collapsed": false
   },
   "outputs": [
    {
     "name": "stdout",
     "output_type": "stream",
     "text": [
      "3387 docs: 2034 train, 1353 test\n"
     ]
    }
   ],
   "source": [
    "from collections import namedtuple\n",
    "import nltk\n",
    "\n",
    "NewsgroupDocument = namedtuple('NewsGroupDocument', 'words tags split category')\n",
    "doc_count = 0 # Used to generate unique id for all documents across both train and test\n",
    "\n",
    "all_newsgroup_documents = []\n",
    "\n",
    "#Used to convert newsgroup corpus into Doc2Vec formats\n",
    "def convert_newsgroup(docs,labels,split):\n",
    "    global doc_count\n",
    "    tagged_documents = []\n",
    "    \n",
    "    for doc, label in zip(docs,labels):\n",
    "        doc_count += 1\n",
    "        #print doc\n",
    "        words = gensim.utils.to_unicode(doc).split() # expected by gensim\n",
    "        tags = [doc_count] #needs to be a list. Exp with having multiple tags\n",
    "        all_newsgroup_documents.append(NewsgroupDocument(words,tags,split,label))\n",
    "        #print words\n",
    "        \n",
    "        #if doc_count == 5:\n",
    "        #    print all_newsgroup_documents\n",
    "        #    break\n",
    "            #sys.exit(0)\n",
    "    \n",
    "\n",
    "convert_newsgroup(newsgroups_test.data,newsgroups_test.target,'test')\n",
    "convert_newsgroup(newsgroups_train.data,newsgroups_train.target,'train')\n",
    "\n",
    "train_docs = [doc for doc in all_newsgroup_documents if doc.split == 'train']\n",
    "test_docs = [doc for doc in all_newsgroup_documents if doc.split == 'test']\n",
    "doc_list = all_newsgroup_documents[:]  # for reshuffling per pass\n",
    "\n",
    "print('%d docs: %d train, %d test' % (len(doc_list), len(train_docs), len(test_docs)))"
   ]
  },
  {
   "cell_type": "markdown",
   "metadata": {},
   "source": [
    "### Set Up Doc2Vec"
   ]
  },
  {
   "cell_type": "code",
   "execution_count": 7,
   "metadata": {
    "collapsed": false
   },
   "outputs": [
    {
     "name": "stdout",
     "output_type": "stream",
     "text": [
      "Doc2Vec(dm/c,d200,n10,w30,t8)\n"
     ]
    }
   ],
   "source": [
    "# Models to evaluate\n",
    "simple_models = [\n",
    "    # PV-DM w/concatenation - window=5 (both sides) approximates paper's 10-word total window size\n",
    "    Doc2Vec(dm=1, dm_concat=1, size=200, window=30, negative=10, hs=0, min_count=1, workers=cores),\n",
    "    # PV-DBOW \n",
    "    #Doc2Vec(dm=0, size=300, negative=5, hs=0, min_count=1, workers=cores),\n",
    "    # PV-DM w/average\n",
    "    #Doc2Vec(dm=1, dm_mean=1, size=300, window=10, negative=5, hs=0, min_count=1, workers=cores),\n",
    "]\n",
    "\n",
    "# speed setup by sharing results of 1st model's vocabulary scan\n",
    "simple_models[0].build_vocab(all_newsgroup_documents)  # PV-DM/concat requires one special NULL word so it serves as template\n",
    "print(simple_models[0])\n",
    "for model in simple_models[1:]:\n",
    "    model.reset_from(simple_models[0])\n",
    "    print(model)\n",
    "\n",
    "models_by_name = OrderedDict((str(model), model) for model in simple_models)"
   ]
  },
  {
   "cell_type": "markdown",
   "metadata": {},
   "source": [
    "### Prediction and Evaluation"
   ]
  },
  {
   "cell_type": "markdown",
   "metadata": {},
   "source": [
    "### Training"
   ]
  },
  {
   "cell_type": "markdown",
   "metadata": {},
   "source": [
    "Why is bulk training done with all the  docs from train, test,  and dev ? Compared to other methods training is only done on the training dataset "
   ]
  },
  {
   "cell_type": "code",
   "execution_count": 8,
   "metadata": {
    "collapsed": true
   },
   "outputs": [],
   "source": [
    "from collections import defaultdict\n",
    "best_error = defaultdict(lambda :1.0)  # to selectively-print only best errors achieved"
   ]
  },
  {
   "cell_type": "code",
   "execution_count": 9,
   "metadata": {
    "collapsed": false
   },
   "outputs": [],
   "source": [
    "#Get Vectors From Word2Vec\n",
    "def extract_vectors(model,docs):\n",
    "    \n",
    "    vectors_list = []\n",
    "    \n",
    "    for doc_no in range(len(docs)):\n",
    "        doc_label = docs[doc_no].tags[0]\n",
    "        doc_vector = model.docvecs[doc_label]\n",
    "        vectors_list.append(doc_vector)\n",
    "        \n",
    "    return vectors_list\n",
    "\n",
    "def evaluation():\n",
    "    clf = MultinomialNB(alpha=.01)\n",
    "\n",
    "    # Evaluate using cross validation\n",
    "    cross_val = KFold(len(newsgroups_train.target),n_folds=5,shuffle=True)\n",
    "\n",
    "    for train_index, test_index in cross_val:\n",
    "        X_train,X_test = X[train_index],X[test_index]\n",
    "        y_train,y_test = y[train_index],y[test_index]\n",
    "        clf.fit(X_train,y_train)\n",
    "        y_pred = clf.predict(X_test)\n",
    "        print classification_report(le.inverse_transform(y_test),le.inverse_transform(y_pred))\n",
    "        print metrics.confusion_matrix(y_pred,y_test)\n"
   ]
  },
  {
   "cell_type": "code",
   "execution_count": 10,
   "metadata": {
    "collapsed": false,
    "scrolled": false
   },
   "outputs": [
    {
     "name": "stdout",
     "output_type": "stream",
     "text": [
      "0.025\n",
      "             precision    recall  f1-score   support\n",
      "\n",
      "          0       0.49      0.19      0.28       319\n",
      "          1       0.69      0.07      0.13       389\n",
      "          2       0.31      0.93      0.47       394\n",
      "          3       1.00      0.00      0.01       251\n",
      "\n",
      "avg / total       0.59      0.34      0.24      1353\n",
      "\n",
      "1 passes : Doc2Vec(dm/c,d200,n10,w30,t8) \n",
      "0.02476\n",
      "             precision    recall  f1-score   support\n",
      "\n",
      "          0       0.45      0.34      0.39       319\n",
      "          1       0.55      0.64      0.59       389\n",
      "          2       0.40      0.66      0.50       394\n",
      "          3       0.75      0.04      0.07       251\n",
      "\n",
      "avg / total       0.52      0.46      0.42      1353\n",
      "\n",
      "2 passes : Doc2Vec(dm/c,d200,n10,w30,t8) \n",
      "0.02452\n",
      "             precision    recall  f1-score   support\n",
      "\n",
      "          0       0.42      0.37      0.40       319\n",
      "          1       0.53      0.62      0.57       389\n",
      "          2       0.42      0.64      0.51       394\n",
      "          3       0.71      0.06      0.11       251\n",
      "\n",
      "avg / total       0.51      0.46      0.43      1353\n",
      "\n",
      "3 passes : Doc2Vec(dm/c,d200,n10,w30,t8) \n",
      "0.02428\n",
      "             precision    recall  f1-score   support\n",
      "\n",
      "          0       0.41      0.36      0.38       319\n",
      "          1       0.53      0.64      0.58       389\n",
      "          2       0.43      0.62      0.51       394\n",
      "          3       0.68      0.07      0.12       251\n",
      "\n",
      "avg / total       0.50      0.46      0.43      1353\n",
      "\n",
      "4 passes : Doc2Vec(dm/c,d200,n10,w30,t8) \n",
      "0.02404\n"
     ]
    },
    {
     "ename": "KeyboardInterrupt",
     "evalue": "",
     "output_type": "error",
     "traceback": [
      "\u001b[1;31m---------------------------------------------------------------------------\u001b[0m",
      "\u001b[1;31mKeyboardInterrupt\u001b[0m                         Traceback (most recent call last)",
      "\u001b[1;32m<ipython-input-10-7ada862c5f05>\u001b[0m in \u001b[0;36m<module>\u001b[1;34m()\u001b[0m\n\u001b[0;32m     18\u001b[0m         \u001b[1;31m#train_model.train_lbls = True\u001b[0m\u001b[1;33m\u001b[0m\u001b[1;33m\u001b[0m\u001b[0m\n\u001b[0;32m     19\u001b[0m \u001b[1;33m\u001b[0m\u001b[0m\n\u001b[1;32m---> 20\u001b[1;33m         \u001b[0mtrain_model\u001b[0m\u001b[1;33m.\u001b[0m\u001b[0mtrain\u001b[0m\u001b[1;33m(\u001b[0m\u001b[0mdoc_list\u001b[0m\u001b[1;33m)\u001b[0m\u001b[1;33m\u001b[0m\u001b[0m\n\u001b[0m\u001b[0;32m     21\u001b[0m \u001b[1;33m\u001b[0m\u001b[0m\n\u001b[0;32m     22\u001b[0m         \u001b[1;31m#Evaluation\u001b[0m\u001b[1;33m\u001b[0m\u001b[1;33m\u001b[0m\u001b[0m\n",
      "\u001b[1;32m/home/skillachie/Development/lang/pyenv/local/lib/python2.7/site-packages/gensim/models/word2vec.pyc\u001b[0m in \u001b[0;36mtrain\u001b[1;34m(self, sentences, total_words, word_count, chunksize, queue_factor, report_delay)\u001b[0m\n\u001b[0;32m    701\u001b[0m                 \u001b[0mjob_no\u001b[0m\u001b[1;33m,\u001b[0m \u001b[0mitems\u001b[0m \u001b[1;33m=\u001b[0m \u001b[0mnext\u001b[0m\u001b[1;33m(\u001b[0m\u001b[0mjobs_source\u001b[0m\u001b[1;33m)\u001b[0m\u001b[1;33m\u001b[0m\u001b[0m\n\u001b[0;32m    702\u001b[0m                 \u001b[0mlogger\u001b[0m\u001b[1;33m.\u001b[0m\u001b[0mdebug\u001b[0m\u001b[1;33m(\u001b[0m\u001b[1;34m\"putting job #%i in the queue\"\u001b[0m\u001b[1;33m,\u001b[0m \u001b[0mjob_no\u001b[0m\u001b[1;33m)\u001b[0m\u001b[1;33m\u001b[0m\u001b[0m\n\u001b[1;32m--> 703\u001b[1;33m                 \u001b[0mjob_queue\u001b[0m\u001b[1;33m.\u001b[0m\u001b[0mput\u001b[0m\u001b[1;33m(\u001b[0m\u001b[1;33m(\u001b[0m\u001b[0mitems\u001b[0m\u001b[1;33m,\u001b[0m \u001b[0mnext_alpha\u001b[0m\u001b[1;33m)\u001b[0m\u001b[1;33m)\u001b[0m\u001b[1;33m\u001b[0m\u001b[0m\n\u001b[0m\u001b[0;32m    704\u001b[0m                 \u001b[1;31m# update the learning rate before every job\u001b[0m\u001b[1;33m\u001b[0m\u001b[1;33m\u001b[0m\u001b[0m\n\u001b[0;32m    705\u001b[0m                 \u001b[0mpushed_words\u001b[0m \u001b[1;33m+=\u001b[0m \u001b[0mround\u001b[0m\u001b[1;33m(\u001b[0m\u001b[1;33m(\u001b[0m\u001b[0mchunksize\u001b[0m\u001b[1;33m/\u001b[0m\u001b[0mself\u001b[0m\u001b[1;33m.\u001b[0m\u001b[0mcorpus_count\u001b[0m\u001b[1;33m)\u001b[0m\u001b[1;33m/\u001b[0m\u001b[0mtotal_words\u001b[0m\u001b[1;33m)\u001b[0m\u001b[1;33m\u001b[0m\u001b[0m\n",
      "\u001b[1;32m/usr/lib/python2.7/Queue.pyc\u001b[0m in \u001b[0;36mput\u001b[1;34m(self, item, block, timeout)\u001b[0m\n\u001b[0;32m    124\u001b[0m                 \u001b[1;32melif\u001b[0m \u001b[0mtimeout\u001b[0m \u001b[1;32mis\u001b[0m \u001b[0mNone\u001b[0m\u001b[1;33m:\u001b[0m\u001b[1;33m\u001b[0m\u001b[0m\n\u001b[0;32m    125\u001b[0m                     \u001b[1;32mwhile\u001b[0m \u001b[0mself\u001b[0m\u001b[1;33m.\u001b[0m\u001b[0m_qsize\u001b[0m\u001b[1;33m(\u001b[0m\u001b[1;33m)\u001b[0m \u001b[1;33m==\u001b[0m \u001b[0mself\u001b[0m\u001b[1;33m.\u001b[0m\u001b[0mmaxsize\u001b[0m\u001b[1;33m:\u001b[0m\u001b[1;33m\u001b[0m\u001b[0m\n\u001b[1;32m--> 126\u001b[1;33m                         \u001b[0mself\u001b[0m\u001b[1;33m.\u001b[0m\u001b[0mnot_full\u001b[0m\u001b[1;33m.\u001b[0m\u001b[0mwait\u001b[0m\u001b[1;33m(\u001b[0m\u001b[1;33m)\u001b[0m\u001b[1;33m\u001b[0m\u001b[0m\n\u001b[0m\u001b[0;32m    127\u001b[0m                 \u001b[1;32melif\u001b[0m \u001b[0mtimeout\u001b[0m \u001b[1;33m<\u001b[0m \u001b[1;36m0\u001b[0m\u001b[1;33m:\u001b[0m\u001b[1;33m\u001b[0m\u001b[0m\n\u001b[0;32m    128\u001b[0m                     \u001b[1;32mraise\u001b[0m \u001b[0mValueError\u001b[0m\u001b[1;33m(\u001b[0m\u001b[1;34m\"'timeout' must be a non-negative number\"\u001b[0m\u001b[1;33m)\u001b[0m\u001b[1;33m\u001b[0m\u001b[0m\n",
      "\u001b[1;32m/usr/lib/python2.7/threading.pyc\u001b[0m in \u001b[0;36mwait\u001b[1;34m(self, timeout)\u001b[0m\n\u001b[0;32m    337\u001b[0m         \u001b[1;32mtry\u001b[0m\u001b[1;33m:\u001b[0m    \u001b[1;31m# restore state no matter what (e.g., KeyboardInterrupt)\u001b[0m\u001b[1;33m\u001b[0m\u001b[0m\n\u001b[0;32m    338\u001b[0m             \u001b[1;32mif\u001b[0m \u001b[0mtimeout\u001b[0m \u001b[1;32mis\u001b[0m \u001b[0mNone\u001b[0m\u001b[1;33m:\u001b[0m\u001b[1;33m\u001b[0m\u001b[0m\n\u001b[1;32m--> 339\u001b[1;33m                 \u001b[0mwaiter\u001b[0m\u001b[1;33m.\u001b[0m\u001b[0macquire\u001b[0m\u001b[1;33m(\u001b[0m\u001b[1;33m)\u001b[0m\u001b[1;33m\u001b[0m\u001b[0m\n\u001b[0m\u001b[0;32m    340\u001b[0m                 \u001b[1;32mif\u001b[0m \u001b[0m__debug__\u001b[0m\u001b[1;33m:\u001b[0m\u001b[1;33m\u001b[0m\u001b[0m\n\u001b[0;32m    341\u001b[0m                     \u001b[0mself\u001b[0m\u001b[1;33m.\u001b[0m\u001b[0m_note\u001b[0m\u001b[1;33m(\u001b[0m\u001b[1;34m\"%s.wait(): got it\"\u001b[0m\u001b[1;33m,\u001b[0m \u001b[0mself\u001b[0m\u001b[1;33m)\u001b[0m\u001b[1;33m\u001b[0m\u001b[0m\n",
      "\u001b[1;31mKeyboardInterrupt\u001b[0m: "
     ]
    }
   ],
   "source": [
    "\n",
    "from random import shuffle\n",
    "alpha, min_alpha, passes = (0.025, 0.001, 25)\n",
    "alpha_delta = (alpha - min_alpha) / passes\n",
    "\n",
    "for epoch in range(passes):\n",
    "    shuffle(doc_list)\n",
    "    \n",
    "    for name, train_model in models_by_name.items():\n",
    "        \n",
    "        #Train\n",
    "        print alpha\n",
    "        train_model.alpha, train_model.min_alpha = alpha, alpha\n",
    "\n",
    "        train_model.train(doc_list)\n",
    "            \n",
    "        #Evaluation\n",
    "        train_vectors = extract_vectors(train_model,train_docs)\n",
    "        test_vectors = extract_vectors(train_model,test_docs)\n",
    "      \n",
    "        #clf = MultinomialNB(alpha=.01)\n",
    "        clf = svm.SVC(kernel='linear', C = 1.0)\n",
    "        clf.fit(train_vectors, newsgroups_train.target)\n",
    "        pred = clf.predict(test_vectors)\n",
    "        \n",
    "        print classification_report(le.inverse_transform(newsgroups_test.target),le.inverse_transform(pred))\n",
    "        print(\"%i passes : %s \" % (epoch + 1, name))\n",
    "        \n",
    "    alpha -= alpha_delta"
   ]
  },
  {
   "cell_type": "code",
   "execution_count": null,
   "metadata": {
    "collapsed": true
   },
   "outputs": [],
   "source": []
  }
 ],
 "metadata": {
  "kernelspec": {
   "display_name": "Python 2",
   "language": "python",
   "name": "python2"
  },
  "language_info": {
   "codemirror_mode": {
    "name": "ipython",
    "version": 2
   },
   "file_extension": ".py",
   "mimetype": "text/x-python",
   "name": "python",
   "nbconvert_exporter": "python",
   "pygments_lexer": "ipython2",
   "version": "2.7.6"
  }
 },
 "nbformat": 4,
 "nbformat_minor": 0
}
